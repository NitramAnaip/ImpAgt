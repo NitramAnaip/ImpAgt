{
 "cells": [
  {
   "cell_type": "markdown",
   "metadata": {},
   "source": [
    "## Explore PubAG API"
   ]
  },
  {
   "cell_type": "code",
   "execution_count": 1,
   "metadata": {},
   "outputs": [],
   "source": [
    "import requests"
   ]
  },
  {
   "cell_type": "code",
   "execution_count": 10,
   "metadata": {},
   "outputs": [],
   "source": [
    "API_KEY = \"jGgEv0rYItqngfgOd9eF9HN5GoCDRxTzB64slFdL\""
   ]
  },
  {
   "cell_type": "code",
   "execution_count": 30,
   "metadata": {},
   "outputs": [],
   "source": [
    "response = requests.get(\"https://api.nal.usda.gov/pubag/rest/search/?query=precision+agriculture&per_page=100&api_key={}\".format(API_KEY)).json()"
   ]
  },
  {
   "cell_type": "code",
   "execution_count": 34,
   "metadata": {},
   "outputs": [],
   "source": [
    "totalpages = response[\"request\"][\"totalPages\"]\n",
    "results = response[\"resultList\"]\n",
    "\n",
    "abstracts = []\n",
    "for i in range(totalpages):\n",
    "    abstracts.append(results[i][\"abstract\"]) "
   ]
  }
 ],
 "metadata": {
  "kernelspec": {
   "display_name": "impagt_env",
   "language": "python",
   "name": "impagt_env"
  },
  "language_info": {
   "codemirror_mode": {
    "name": "ipython",
    "version": 3
   },
   "file_extension": ".py",
   "mimetype": "text/x-python",
   "name": "python",
   "nbconvert_exporter": "python",
   "pygments_lexer": "ipython3",
   "version": "3.6.12"
  },
  "toc": {
   "base_numbering": 1,
   "nav_menu": {},
   "number_sections": true,
   "sideBar": true,
   "skip_h1_title": false,
   "title_cell": "Table of Contents",
   "title_sidebar": "Contents",
   "toc_cell": false,
   "toc_position": {},
   "toc_section_display": true,
   "toc_window_display": false
  }
 },
 "nbformat": 4,
 "nbformat_minor": 4
}
