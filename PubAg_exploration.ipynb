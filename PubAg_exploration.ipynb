{
 "cells": [
  {
   "cell_type": "code",
   "execution_count": 2,
   "metadata": {},
   "outputs": [],
   "source": [
    "import pandas as pd\n",
    "import time \n",
    "from collections import Counter\n",
    "    "
   ]
  },
  {
   "cell_type": "code",
   "execution_count": 46,
   "metadata": {},
   "outputs": [
    {
     "name": "stdout",
     "output_type": "stream",
     "text": [
      "added 950 abstracts\n"
     ]
    }
   ],
   "source": [
    "with open('pubag_abs_dict.json', 'r') as read_file:\n",
    "    abstract_dict = json.load(read_file)\n",
    "\n",
    "start_len = len(abstract_dict['id'])\n",
    "keywords = \"convolutional+neural+networks+wheat\"\n",
    "#put convolutional neural network. CNN stands for Cheyenne or aminés (chemistry) etc\n",
    "response = requests.get(\"https://api.nal.usda.gov/pubag/rest/search/?query={}&per_page=100&api_key={}\".format(keywords, API_KEY)).json()\n",
    "totalpages = response[\"request\"][\"totalPages\"]\n",
    "\n",
    "for i in range (totalpages):\n",
    "    response = requests.get(\"https://api.nal.usda.gov/pubag/rest/search/?query={}&page={}&per_page=100&api_key={}\".format(keywords, i+1, API_KEY)).json()\n",
    "    for j in range (len(response['resultList'])):\n",
    "        abs_id = response['resultList'][j]['id']\n",
    "        if abs_id not in abstract_dict['id']:\n",
    "            try:\n",
    "                abstract_dict['id'].append(abs_id)\n",
    "                abstract_dict['titles'].append(response['resultList'][j]['title'])\n",
    "                abstract_dict['abstracts'].append(response['resultList'][j]['abstract'])\n",
    "                abstract_dict['authors'].append((response['resultList'][j]['author']))\n",
    "                abstract_dict['keywords'].append((keywords))\n",
    "                abstract_dict['subject'].append((response['resultList'][j]['subject']))\n",
    "                abstract_dict['date'].append((response['resultList'][j]['date']))\n",
    "                abstract_dict['sources'].append((response['resultList'][j]['journal']))\n",
    "            except:\n",
    "                print(abs_id, \" didn't work\")\n",
    "end_len = len(abstract_dict['id'])\n",
    "\n",
    "print(\"added {} abstracts\".format(end_len-start_len))\n",
    "\n",
    "\n",
    "with open('pubag_abs_dict.json', 'w+') as f:\n",
    "    json.dump(abstract_dict, f) response = requests.get(\"https://api.nal.usda.gov/pubag/rest/search/?query=precision+agriculture&per_page=100&page=22&api_key={}\".format(API_KEY)).json()"
   ]
  },
  {
   "cell_type": "code",
   "execution_count": null,
   "metadata": {},
   "outputs": [],
   "source": [
    "with open('pubag_abs_dict.json', 'r') as read_file:\n",
    "    abstract_dict = json.load(read_file)\n",
    "print(len(abstract_dict['id']))\n",
    "\n",
    "abstract_df = pd.DataFrame.from_dict(abstract_dict)\n",
    "abstract_df.head()\n",
    "print(abstract_df.shape)\n",
    "\n",
    "\n",
    "\n"
   ]
  },
  {
   "cell_type": "code",
   "execution_count": null,
   "metadata": {},
   "outputs": [],
   "source": [
    "start = time.time()\n",
    "inter_df = abstract_df[abstract_df['abstracts'].str.contains(\"convolutional\")]\n",
    "inter_df.head()\n",
    "\n",
    "\n",
    "\n",
    "years = list(inter_df['date'])\n",
    "for i in range (len(years)):\n",
    "    years[i] = years[i][:4]\n",
    "inter_df['date'] = years\n",
    "inter_df.groupby('date').count().plot()\n",
    "end = time.time()\n",
    "print(end-start)"
   ]
  },
  {
   "cell_type": "code",
   "execution_count": null,
   "metadata": {},
   "outputs": [],
   "source": [
    "start = time.time()\n",
    "indices = [i for i, x in enumerate(abstract_dict[\"abstracts\"]) if \"wheat\" in x]\n",
    "dates = [int(x[:4]) for i, x in enumerate(abstract_dict[\"date\"]) if i in indices]\n",
    "\n",
    "year_counts = Counter(dates)\n",
    "year_df = pd.DataFrame.from_dict(year_counts, orient='index')\n",
    "year_df.plot(kind='bar')\n",
    "end = time.time()\n",
    "print(end-start)"
   ]
  }
 ],
 "metadata": {
  "kernelspec": {
   "display_name": "Python 3",
   "language": "python",
   "name": "python3"
  },
  "language_info": {
   "codemirror_mode": {
    "name": "ipython",
    "version": 3
   },
   "file_extension": ".py",
   "mimetype": "text/x-python",
   "name": "python",
   "nbconvert_exporter": "python",
   "pygments_lexer": "ipython3",
   "version": "3.6.9"
  }
 },
 "nbformat": 4,
 "nbformat_minor": 4
}
