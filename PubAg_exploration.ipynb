{
 "cells": [
  {
   "cell_type": "markdown",
   "metadata": {},
   "source": [
    "## Explore PubAG API"
   ]
  },
  {
   "cell_type": "code",
   "execution_count": 1,
   "metadata": {},
   "outputs": [],
   "source": [
    "import requests\n",
    "import json"
   ]
  },
  {
   "cell_type": "code",
   "execution_count": 2,
   "metadata": {},
   "outputs": [],
   "source": [
    "API_KEY = \"jGgEv0rYItqngfgOd9eF9HN5GoCDRxTzB64slFdL\""
   ]
  },
  {
   "cell_type": "code",
   "execution_count": 28,
   "metadata": {},
   "outputs": [
    {
     "name": "stdout",
     "output_type": "stream",
     "text": [
      "18552  didn't work\n",
      "2846665  didn't work\n",
      "1552676  didn't work\n",
      "2187318  didn't work\n",
      "2187319  didn't work\n",
      "2202449  didn't work\n",
      "2837784  didn't work\n",
      "2641343  didn't work\n",
      "17630  didn't work\n",
      "3565536  didn't work\n",
      "2127885  didn't work\n",
      "2865167  didn't work\n",
      "2123647  didn't work\n",
      "2271001  didn't work\n",
      "2207168  didn't work\n",
      "2271828  didn't work\n",
      "2246731  didn't work\n",
      "2774897  didn't work\n",
      "2846847  didn't work\n",
      "2865075  didn't work\n",
      "3067709  didn't work\n",
      "2207166  didn't work\n",
      "2235481  didn't work\n",
      "35763  didn't work\n",
      "1998729  didn't work\n",
      "1537734  didn't work\n",
      "3103144  didn't work\n",
      "2864932  didn't work\n",
      "3110044  didn't work\n",
      "2020776  didn't work\n",
      "20785  didn't work\n",
      "4228982  didn't work\n",
      "2876319  didn't work\n",
      "2016231  didn't work\n",
      "2062307  didn't work\n",
      "1537603  didn't work\n",
      "1552670  didn't work\n",
      "1381018  didn't work\n",
      "1381019  didn't work\n",
      "2186459  didn't work\n",
      "2071325  didn't work\n",
      "2805534  didn't work\n",
      "1537446  didn't work\n",
      "1537584  didn't work\n",
      "3055992  didn't work\n",
      "1380458  didn't work\n",
      "2775006  didn't work\n",
      "2864981  didn't work\n",
      "1552136  didn't work\n",
      "2020361  didn't work\n",
      "2019269  didn't work\n",
      "2020812  didn't work\n",
      "2020320  didn't work\n",
      "2019250  didn't work\n",
      "1953950  didn't work\n",
      "2774758  didn't work\n",
      "1955219  didn't work\n",
      "2774840  didn't work\n",
      "2020378  didn't work\n",
      "2837785  didn't work\n",
      "2837718  didn't work\n",
      "1537562  didn't work\n",
      "2494640  didn't work\n",
      "1537710  didn't work\n",
      "3055954  didn't work\n",
      "558  didn't work\n",
      "48399  didn't work\n",
      "2494588  didn't work\n",
      "18359  didn't work\n",
      "18405  didn't work\n",
      "2583673  didn't work\n",
      "1954035  didn't work\n",
      "2775751  didn't work\n",
      "38183  didn't work\n",
      "38233  didn't work\n",
      "48405  didn't work\n",
      "37420  didn't work\n",
      "37308  didn't work\n",
      "20223  didn't work\n",
      "18987  didn't work\n",
      "6218729  didn't work\n",
      "4190  didn't work\n",
      "17999  didn't work\n"
     ]
    }
   ],
   "source": [
    "with open('pubag_abs_dict.json', 'r') as read_file:\n",
    "    abstract_dict = json.load(read_file)\n",
    "\n",
    "keywords = \"precision+agriculture\"\n",
    "response = requests.get(\"https://api.nal.usda.gov/pubag/rest/search/?query={}&per_page=100&api_key={}\".format(keywords, API_KEY)).json()\n",
    "totalpages = response[\"request\"][\"totalPages\"]\n",
    "\n",
    "for i in range (totalpages):\n",
    "    response = requests.get(\"https://api.nal.usda.gov/pubag/rest/search/?query={}&page={}&per_page=100&api_key={}\".format(keywords, i+1, API_KEY)).json()\n",
    "    for j in range (len(response['resultList'])):\n",
    "        abs_id = response['resultList'][j]['id']\n",
    "        if abs_id not in abstract_dict['id']:\n",
    "            try:\n",
    "                abstract_dict['id'].append(abs_id)\n",
    "                abstract_dict['titles'].append(response['resultList'][j]['title'])\n",
    "                abstract_dict['abstracts'].append(response['resultList'][j]['abstract'])\n",
    "                abstract_dict['authors'].append((response['resultList'][j]['author']))\n",
    "                abstract_dict['keywords'].append((keywords))\n",
    "                abstract_dict['subject'].append((response['resultList'][j]['subject']))\n",
    "                abstract_dict['date'].append((response['resultList'][j]['date']))\n",
    "                abstract_dict['sources'].append((response['resultList'][j]['journal']))\n",
    "            except:\n",
    "                print(abs_id, \" didn't work\")\n",
    "                                             \n",
    "with open('pubag_abs_dict.json', 'w+') as f:\n",
    "    json.dump(abstract_dict, f) "
   ]
  },
  {
   "cell_type": "code",
   "execution_count": 29,
   "metadata": {},
   "outputs": [
    {
     "name": "stdout",
     "output_type": "stream",
     "text": [
      "2938\n"
     ]
    }
   ],
   "source": [
    "print(len(abstract_dict['id']))"
   ]
  },
  {
   "cell_type": "code",
   "execution_count": 30,
   "metadata": {},
   "outputs": [
    {
     "name": "stdout",
     "output_type": "stream",
     "text": [
      "2938\n"
     ]
    }
   ],
   "source": [
    "with open('pubag_abs_dict.json', 'r') as read_file:\n",
    "    abstract_dict = json.load(read_file)\n",
    "print(len(abstract_dict['id']))"
   ]
  },
  {
   "cell_type": "code",
   "execution_count": null,
   "metadata": {},
   "outputs": [],
   "source": []
  }
 ],
 "metadata": {
  "kernelspec": {
   "display_name": "Python 3",
   "language": "python",
   "name": "python3"
  },
  "language_info": {
   "codemirror_mode": {
    "name": "ipython",
    "version": 3
   },
   "file_extension": ".py",
   "mimetype": "text/x-python",
   "name": "python",
   "nbconvert_exporter": "python",
   "pygments_lexer": "ipython3",
   "version": "3.6.9"
  },
  "toc": {
   "base_numbering": 1,
   "nav_menu": {},
   "number_sections": true,
   "sideBar": true,
   "skip_h1_title": false,
   "title_cell": "Table of Contents",
   "title_sidebar": "Contents",
   "toc_cell": false,
   "toc_position": {},
   "toc_section_display": true,
   "toc_window_display": false
  }
 },
 "nbformat": 4,
 "nbformat_minor": 4
}
