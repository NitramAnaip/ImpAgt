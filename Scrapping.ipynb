{
 "cells": [
  {
   "cell_type": "markdown",
   "metadata": {},
   "source": [
    "Authors: Louis Ravillon, Martin Piana\n",
    "Date: October 2020"
   ]
  },
  {
   "cell_type": "code",
   "execution_count": 1,
   "metadata": {},
   "outputs": [],
   "source": [
    "# packages\n",
    "\n",
    "import requests\n",
    "from bs4 import BeautifulSoup\n"
   ]
  },
  {
   "cell_type": "markdown",
   "metadata": {},
   "source": [
    "## Parsing directly on CNRS database looks a bit complicated\n",
    "\n",
    "For now we'll just try parsing the Arxiv website and see how it goes"
   ]
  },
  {
   "cell_type": "code",
   "execution_count": 4,
   "metadata": {},
   "outputs": [],
   "source": [
    "arxiv_url = \"https://arxiv.org/search/?query={}&searchtype=title&abstracts=show&order=-announced_date_first&size=50&start={}\"\n"
   ]
  },
  {
   "cell_type": "code",
   "execution_count": 8,
   "metadata": {},
   "outputs": [
    {
     "name": "stdout",
     "output_type": "stream",
     "text": [
      "['https://arxiv.org/pdf/2010.02866.pdf', 'https://arxiv.org/pdf/2010.02749.pdf', 'https://arxiv.org/pdf/2010.02715.pdf', 'https://arxiv.org/pdf/2010.02670.pdf', 'https://arxiv.org/pdf/2010.02576.pdf', 'https://arxiv.org/pdf/2010.02523.pdf', 'https://arxiv.org/pdf/2010.02374.pdf', 'https://arxiv.org/pdf/2010.02317.pdf', 'https://arxiv.org/pdf/2010.02213.pdf', 'https://arxiv.org/pdf/2010.02174.pdf', 'https://arxiv.org/pdf/2010.02087.pdf', 'https://arxiv.org/pdf/2010.02086.pdf', 'https://arxiv.org/pdf/2010.02011.pdf', 'https://arxiv.org/pdf/2010.01996.pdf', 'https://arxiv.org/pdf/2010.01976.pdf', 'https://arxiv.org/pdf/2010.01968.pdf', 'https://arxiv.org/pdf/2010.01711.pdf', 'https://arxiv.org/pdf/2010.01709.pdf', 'https://arxiv.org/pdf/2010.01668.pdf', 'https://arxiv.org/pdf/2010.01582.pdf', 'https://arxiv.org/pdf/2010.01431.pdf', 'https://arxiv.org/pdf/2010.01213.pdf', 'https://arxiv.org/pdf/2010.01163.pdf', 'https://arxiv.org/pdf/2010.01149.pdf', 'https://arxiv.org/pdf/2010.01030.pdf', 'https://arxiv.org/pdf/2010.00964.pdf', 'https://arxiv.org/pdf/2010.00892.pdf', 'https://arxiv.org/pdf/2010.00848.pdf', 'https://arxiv.org/pdf/2010.00826.pdf', 'https://arxiv.org/pdf/2010.00821.pdf', 'https://arxiv.org/pdf/2010.00661.pdf', 'https://arxiv.org/pdf/2010.00619.pdf', 'https://arxiv.org/pdf/2010.00536.pdf', 'https://arxiv.org/pdf/2010.00532.pdf', 'https://arxiv.org/pdf/2010.00509.pdf', 'https://arxiv.org/pdf/2010.00401.pdf', 'https://arxiv.org/pdf/2010.00399.pdf', 'https://arxiv.org/pdf/2010.00397.pdf', 'https://arxiv.org/pdf/2010.00391.pdf', 'https://arxiv.org/pdf/2010.00353.pdf', 'https://arxiv.org/pdf/2010.00350.pdf', 'https://arxiv.org/pdf/2010.00330.pdf', 'https://arxiv.org/pdf/2010.00134.pdf', 'https://arxiv.org/pdf/2010.00110.pdf', 'https://arxiv.org/pdf/2010.00072.pdf', 'https://arxiv.org/pdf/2010.00054.pdf', 'https://arxiv.org/pdf/2010.00041.pdf', 'https://arxiv.org/pdf/2009.14695.pdf', 'https://arxiv.org/pdf/2009.14623.pdf', 'https://arxiv.org/pdf/2009.14596.pdf']\n",
      "<class 'str'>\n"
     ]
    }
   ],
   "source": [
    "# choose the query we want\n",
    "# careful: here we're just working on the first 50 results (the website presents them 50 by 50)\n",
    "# if we want more we just have to iterate on size adding 50 by 50\n",
    "\n",
    "\n",
    "            \n",
    "def get_pdf_urls(website_url, query, total_size):\n",
    "    \"\"\"\n",
    "    ARGS: \n",
    "         - total_size is the total amount of articles we have on the web page. we have to check the webpage beforehand\n",
    "        to know what it amounts to\n",
    "    OUTPUT: a list of urls linking to the articles\n",
    "    \"\"\"\n",
    "    urls = []\n",
    "    for i in range (0, total_size, 50):\n",
    "        size = i\n",
    "\n",
    "        x = requests.get(website_url.format(query, size)).content\n",
    "        parser = \"html.parser\"\n",
    "        soup = BeautifulSoup(x, parser)\n",
    "\n",
    "        results = soup(\"p\", class_=\"list-title is-inline-block\")\n",
    "\n",
    "\n",
    "        for result in results:\n",
    "            for a in result.find_all('a', href=True):\n",
    "                if \"pdf\" in a['href']:\n",
    "                    urls.append(a['href']+\".pdf\")\n",
    "    return urls\n",
    "\n",
    "urls = get_pdf_urls(arxiv_url, \"machine+learning\", 50)\n",
    "print(urls)\n",
    "print(type(urls[0]))"
   ]
  },
  {
   "cell_type": "markdown",
   "metadata": {},
   "source": [
    "### Getting the text\n",
    "\n",
    "Now that we have the pdf url we have two options: either use beautiful soup, see the web page as a html doc and get the texts from there; either download completely the pdf and use pdfplumber or something alike."
   ]
  },
  {
   "cell_type": "code",
   "execution_count": 2,
   "metadata": {},
   "outputs": [
    {
     "name": "stderr",
     "output_type": "stream",
     "text": [
      "Some characters could not be decoded, and were replaced with REPLACEMENT CHARACTER.\n",
      "IOPub data rate exceeded.\n",
      "The notebook server will temporarily stop sending output\n",
      "to the client in order to avoid crashing it.\n",
      "To change this limit, set the config variable\n",
      "`--NotebookApp.iopub_data_rate_limit`.\n",
      "\n",
      "Current values:\n",
      "NotebookApp.iopub_data_rate_limit=1000000.0 (bytes/sec)\n",
      "NotebookApp.rate_limit_window=3.0 (secs)\n",
      "\n"
     ]
    }
   ],
   "source": [
    "# We'll try with beautiful soup\n",
    "\n",
    "x = requests.get(\"https://arxiv.org/pdf/2010.02866.pdf\").content\n",
    "parser = \"html.parser\"\n",
    "soup = BeautifulSoup(x, parser)\n",
    "print(soup)\n",
    "#results = soup.findall(\"span\", string = True, limit = 5)\n",
    "#print(results)\n",
    "\n",
    "\n"
   ]
  },
  {
   "cell_type": "markdown",
   "metadata": {},
   "source": [
    "### Problems with scrapping\n",
    "\n",
    "We'll try downloading it here first and then getting the text out"
   ]
  },
  {
   "cell_type": "code",
   "execution_count": 5,
   "metadata": {},
   "outputs": [],
   "source": [
    "destination = \"/home/martin/Desktop/ImpAgt/test.pdf\"\n",
    "\n",
    "chunk_size = 4000\n",
    "\n",
    "import requests\n",
    "\n",
    "url = \"https://arxiv.org/pdf/2010.02866.pdf\"\n",
    "r = requests.get(url, stream=True)\n",
    "\n",
    "with open(destination, 'wb') as fd:\n",
    "    for chunk in r.iter_content(chunk_size):\n",
    "        fd.write(chunk)\n",
    "        \n"
   ]
  },
  {
   "cell_type": "code",
   "execution_count": null,
   "metadata": {},
   "outputs": [],
   "source": []
  },
  {
   "cell_type": "markdown",
   "metadata": {},
   "source": [
    "Notes:\n",
    "\n",
    " - On bloque un peu dans notre scrapping sur la base de recherche du CNRS. On pense que c'est parce que le site est en dynamique donc il faut qu'on creuse un peu \n",
    " - on est parti sur un site plus simple: Arxiv\n",
    " - On arrive pas a récupérer directement les docs donc on passe par un chemin détourné: on download en bloc et on utililse un package pour ca"
   ]
  },
  {
   "cell_type": "markdown",
   "metadata": {},
   "source": [
    "## Scrapping bigger data base: Google scholar"
   ]
  },
  {
   "cell_type": "code",
   "execution_count": 3,
   "metadata": {},
   "outputs": [
    {
     "name": "stdout",
     "output_type": "stream",
     "text": [
      "['https://www.mdpi.com/327494', 'https://www.sciencedirect.com/science/article/pii/S0168169917314710', 'https://www.sciencedirect.com/science/article/pii/S0168169918304289', 'https://agupubs.onlinelibrary.wiley.com/doi/abs/10.1002/2016WR019933', 'https://academic.oup.com/erae/article-abstract/47/3/849/5552525', 'https://www.tandfonline.com/doi/abs/10.1080/01431161.2016.1278312', 'https://www.mdpi.com/2072-4292/8/6/514', 'https://ieeexplore.ieee.org/abstract/document/8534558/', 'https://ieeexplore.ieee.org/abstract/document/7225403/', 'https://www.sciencedirect.com/science/article/pii/S016816991630117X', 'https://link.springer.com/article/10.1007/s11119-014-9372-7', 'https://www.sciencedirect.com/science/article/pii/S0168192315007467', 'https://ieeexplore.ieee.org/abstract/document/7838138/', 'https://link.springer.com/chapter/10.1007/978-981-13-7403-6_50', 'https://www.sciencedirect.com/science/article/pii/S0168169917308803', 'https://www.nature.com/articles/544S21a', 'https://www.sciencedirect.com/science/article/pii/S2589721719300182', 'https://arxiv.org/abs/1907.10794', 'https://ieeexplore.ieee.org/abstract/document/7325900/', 'https://www.sciencedirect.com/science/article/pii/S0168169918306987', 'https://www.sciencedirect.com/science/article/pii/S0168169917308803', 'https://iopscience.iop.org/article/10.1088/1742-6596/1399/4/044109/meta', 'https://www.sciencedirect.com/science/article/pii/S0168169918306987', 'https://www.sciencedirect.com/science/article/pii/S0168169918311360', 'https://ieeexplore.ieee.org/abstract/document/7325900/', 'https://www.mdpi.com/2072-4292/10/9/1365', 'https://iopscience.iop.org/article/10.1088/1742-6596/1196/1/012065/meta', 'https://ieeexplore.ieee.org/abstract/document/7566749/', 'https://ieeexplore.ieee.org/abstract/document/7482764/', 'https://www.aeaweb.org/articles?id=10.1257/jep.31.2.87', 'https://www.sciencedirect.com/science/article/pii/S0924271618302090', 'https://www.sciencedirect.com/science/article/pii/S0168169915003671', 'https://ieeexplore.ieee.org/abstract/document/8554406/', 'https://www.sciencedirect.com/science/article/pii/S0303243415000719', 'https://ieeexplore.ieee.org/abstract/document/8523943/', 'https://ieeexplore.ieee.org/abstract/document/7473819/', 'https://www.aeaweb.org/articles?id=10.1257/aer.p20151021', 'https://www.sciencedirect.com/science/article/pii/S0048969718324021', 'https://www.sciencedirect.com/science/article/pii/S0016706117321031', 'https://www.sciencedirect.com/science/article/pii/S0022169418303184', 'https://www.tandfonline.com/doi/abs/10.1080/15538362.2018.1485536', 'https://www.sciencedirect.com/science/article/pii/S0924271618302260', 'https://www.aeaweb.org/articles?id=10.1257/aer.p20171038', 'https://arxiv.org/abs/1806.06762', 'https://link.springer.com/article/10.1007/s11119-017-9527-4', 'https://link.springer.com/article/10.1186/s40537-017-0077-4', 'https://ieeexplore.ieee.org/abstract/document/7375220/', 'https://www.sciencedirect.com/science/article/pii/S0168169918305829', 'https://ieeexplore.ieee.org/abstract/document/8291121/', 'https://www.mdpi.com/393892']\n",
      "50\n"
     ]
    }
   ],
   "source": [
    "scholar_url = \"https://scholar.google.fr/scholar?start={}&q={}&hl=fr&as_sdt=0,5&as_ylo={}&as_yhi={}\"\n",
    "\n",
    "def get_pdf_urls(website_url, query, start_date, end_date):\n",
    "    \"\"\"\n",
    "    ARGS: query: what we want in the research bar\n",
    "         \n",
    "    OUTPUT: a list of urls linking to the articles\n",
    "    \"\"\"\n",
    "    urls = []\n",
    "    for i in range (0, 50, 10):\n",
    "        size = i\n",
    "\n",
    "        x = requests.get(website_url.format(size, query, start_date, end_date)).content\n",
    "        parser = \"html.parser\"\n",
    "        soup = BeautifulSoup(x, parser)\n",
    "\n",
    "        results = soup(\"h3\", class_=\"gs_rt\")\n",
    "\n",
    "\n",
    "        for result in results:\n",
    "            for a in result.find_all('a', href=True):\n",
    "\n",
    "                urls.append(a['href'])\n",
    "    return urls\n",
    "\n",
    "urls = get_pdf_urls(scholar_url, \"machine+learning+agriculture\", 2015, 2020)\n",
    "print(urls)\n",
    "print(len(urls))\n",
    "\n",
    "        "
   ]
  },
  {
   "cell_type": "code",
   "execution_count": 8,
   "metadata": {},
   "outputs": [
    {
     "name": "stdout",
     "output_type": "stream",
     "text": [
      "<class 'bytes'>\n",
      "<class 'bs4.BeautifulSoup'>\n",
      "https://www.aeaweb.org/articles?id=10.1257/aer.p20171038\n",
      "<class 'bs4.element.ResultSet'>\n",
      "<class 'bs4.element.Tag'>\n",
      "<class 'bs4.element.Tag'>\n",
      "<class 'bs4.element.Tag'>\n",
      "<class 'bs4.element.Tag'>\n",
      "<class 'bs4.element.Tag'>\n",
      "<class 'bs4.element.Tag'>\n",
      "<class 'bs4.element.Tag'>\n",
      "<class 'bs4.element.Tag'>\n",
      "<class 'bs4.element.Tag'>\n",
      "<class 'bs4.element.Tag'>\n",
      "<class 'bs4.element.Tag'>\n",
      "<class 'bs4.element.Tag'>\n",
      "<class 'bs4.element.Tag'>\n",
      "<class 'bs4.element.Tag'>\n",
      "<class 'bs4.element.Tag'>\n",
      "<class 'bs4.element.Tag'>\n",
      "<class 'bs4.element.Tag'>\n",
      "<class 'bs4.element.Tag'>\n",
      "<class 'bs4.element.Tag'>\n",
      "<class 'bs4.element.Tag'>\n",
      "<class 'bs4.element.Tag'>\n",
      "<class 'bs4.element.Tag'>\n"
     ]
    },
    {
     "data": {
      "text/plain": [
       "0"
      ]
     },
     "execution_count": 8,
     "metadata": {},
     "output_type": "execute_result"
    }
   ],
   "source": [
    "def get_abstracts(url):\n",
    "\n",
    "    x = requests.get(url).content\n",
    "    parser = \"html.parser\"\n",
    "    print(type(x))\n",
    "    soup = BeautifulSoup(x, parser)\n",
    "    print(type(soup))\n",
    "    #results = soup(\"div\", class_=re.compile(\"abstract\"))\n",
    "    results = soup(\"div\")\n",
    "    print(url)\n",
    "    print(type(results))\n",
    "    for result in results:\n",
    "        print(type(result))\n",
    "        #print(result.get_text())\n",
    "\n",
    "    return 0\n",
    "\n",
    "get_abstracts(urls[49])"
   ]
  },
  {
   "cell_type": "markdown",
   "metadata": {},
   "source": [
    "Its a real mess to get the abstracts: half of the websites dont let you get there (protection from robots) and the other half are so randomly coded that you get a lot of info you don't want. Most pertinent might still be to download the available pdfs and find a way to access the abstract pdfs from there."
   ]
  },
  {
   "cell_type": "markdown",
   "metadata": {},
   "source": [
    "14/10 : We had a call with B Frank who helped us on the bypassing of security checks we're facing with google scholar and the websites located on it. "
   ]
  },
  {
   "cell_type": "code",
   "execution_count": 4,
   "metadata": {},
   "outputs": [],
   "source": [
    "import urllib3\n",
    "import json"
   ]
  },
  {
   "cell_type": "code",
   "execution_count": 5,
   "metadata": {},
   "outputs": [
    {
     "data": {
      "text/plain": [
       "'\\nr = http.request(\\'GET\\', urls[4])\\n # transform byte information to string info\\nstring = r.data.decode(\"utf-8\")\\nprint(string)\\n'"
      ]
     },
     "execution_count": 5,
     "metadata": {},
     "output_type": "execute_result"
    }
   ],
   "source": [
    "http = urllib3.PoolManager()\n",
    "\"\"\"\n",
    "S=0\n",
    "for i in range (len(urls)):\n",
    "    r = http.request('GET', urls[i])\n",
    "     # transform byte information to string info\n",
    "    string = r.data.decode(\"utf-8\")\n",
    "    if \"doctype html\" not in str.lower(string):\n",
    "        print(str.lower(string[:15]))\n",
    "        print(i)\n",
    "        S+=1\n",
    "print(S)\n",
    "\"\"\"\n",
    "\n",
    "#it seems that using this method we get access to the html whereas previously we didn't\n",
    "# we still have one or 2 problems(apparentlu with captchas) but it represents a small percentage \n",
    "# of the articles apparently\n",
    "# you can check by uncommenting the lines below\n",
    "\"\"\"\n",
    "r = http.request('GET', urls[4])\n",
    " # transform byte information to string info\n",
    "string = r.data.decode(\"utf-8\")\n",
    "print(string)\n",
    "\"\"\""
   ]
  },
  {
   "cell_type": "code",
   "execution_count": 15,
   "metadata": {},
   "outputs": [
    {
     "name": "stdout",
     "output_type": "stream",
     "text": [
      "https://academic.oup.com/erae/article-abstract/47/3/849/5552525\n"
     ]
    },
    {
     "data": {
      "text/plain": [
       "'\\nfor result in results:\\n    print(result.get_text())\\n\\n        results = soup(\"h3\", class_=\"gs_rt\")\\n\\n\\n        for result in results:\\n            for a in result.find_all(\\'a\\', href=True):\\n\\n                urls.append(a[\\'href\\'])\\n    return urls\\n'"
      ]
     },
     "execution_count": 15,
     "metadata": {},
     "output_type": "execute_result"
    }
   ],
   "source": [
    "# By running this cell and uncommenting \"print soup\" you'll realize that for some \n",
    "# reason the abstract isn't present in the html\n",
    "\n",
    "r = http.request('GET', urls[4])\n",
    "print(urls[4])\n",
    " # transform byte information to string info\n",
    "    \n",
    "string = r.data.decode(\"utf-8\")\n",
    "\n",
    "#print(string)\n",
    "byte_page = r.data\n",
    "\n",
    "\n",
    "\n",
    "parser = \"html.parser\"\n",
    "soup = BeautifulSoup(byte_page, parser)\n",
    "#print(soup)\n",
    "results = soup(\"div\", class_=\"abstractSection abstractInFull\")\n",
    "#print(results)\n",
    "\"\"\"\n",
    "for result in results:\n",
    "    print(result.get_text())\n",
    "\n",
    "        results = soup(\"h3\", class_=\"gs_rt\")\n",
    "\n",
    "\n",
    "        for result in results:\n",
    "            for a in result.find_all('a', href=True):\n",
    "\n",
    "                urls.append(a['href'])\n",
    "    return urls\n",
    "\"\"\""
   ]
  },
  {
   "cell_type": "markdown",
   "metadata": {},
   "source": [
    "### Checkpoint: \n",
    "\n",
    "On this example we have a pb: we are getting missing parts in the html. This is due to he dynamic website? We might need to use selenium\n",
    "\n",
    "Installing Selenium with the right version of geckodriver etc was a mess. I recommend following these steps for it to work: https://tecadmin.net/setup-selenium-with-firefox-on-ubuntu/\n",
    "(go to step 4 included)"
   ]
  },
  {
   "cell_type": "code",
   "execution_count": 2,
   "metadata": {},
   "outputs": [],
   "source": [
    "import selenium\n",
    "import os"
   ]
  },
  {
   "cell_type": "code",
   "execution_count": 3,
   "metadata": {},
   "outputs": [
    {
     "name": "stderr",
     "output_type": "stream",
     "text": [
      "/home/martin/.local/lib/python3.6/site-packages/ipykernel_launcher.py:14: DeprecationWarning: use setter for headless property instead of set_headless\n",
      "  \n",
      "/home/martin/.local/lib/python3.6/site-packages/ipykernel_launcher.py:19: DeprecationWarning: use options instead of firefox_options\n"
     ]
    },
    {
     "name": "stdout",
     "output_type": "stream",
     "text": [
      "<class 'str'>\n"
     ]
    }
   ],
   "source": [
    "from selenium import webdriver\n",
    "from selenium.webdriver.common.desired_capabilities import DesiredCapabilities\n",
    "from selenium.webdriver.firefox.firefox_binary import FirefoxBinary\n",
    "from selenium.webdriver.firefox.options import Options\n",
    "\n",
    "\n",
    "# Note: You'll have to adapt your paths here. I installed my geckodriver on my desktop. Youll have to find where it is\n",
    "# to find where your firefox is on linux: \"which firefox\" in terminal\n",
    "\n",
    "\n",
    "binary = FirefoxBinary('/usr/bin/firefox')\n",
    "binary = r'/usr/bin/firefox'\n",
    "options = Options()\n",
    "options.set_headless(headless=True)\n",
    "options.binary = binary\n",
    "\n",
    "cap = DesiredCapabilities().FIREFOX\n",
    "cap[\"marionette\"] = True #optional\n",
    "browser = webdriver.Firefox(firefox_options=options, capabilities=cap,executable_path='/home/martin/Desktop/geckodriver-v0.25.0-linux64/geckodriver')\n",
    "\n",
    "# get source code\n",
    "browser.get('https://www.sciencedirect.com/science/article/pii/S0168169917314710')\n",
    "html = browser.page_source\n",
    "\n",
    "print(type(html))\n",
    "#print(html)\n",
    "# close web browser\n",
    "browser.close()\n",
    "\n"
   ]
  },
  {
   "cell_type": "markdown",
   "metadata": {},
   "source": [
    "With this new method every thing seems to be working: the abstract at least is present as you can see if you uncomment the \"print (html)\" in the cell above"
   ]
  },
  {
   "cell_type": "code",
   "execution_count": 9,
   "metadata": {},
   "outputs": [
    {
     "name": "stderr",
     "output_type": "stream",
     "text": [
      "/home/martin/.local/lib/python3.6/site-packages/ipykernel_launcher.py:31: DeprecationWarning: use setter for headless property instead of set_headless\n",
      "/home/martin/.local/lib/python3.6/site-packages/ipykernel_launcher.py:40: DeprecationWarning: use options instead of firefox_options\n"
     ]
    },
    {
     "name": "stdout",
     "output_type": "stream",
     "text": [
      "useragent:  Mozilla/5.0 (Windows NT 6.1; Win64; x64; rv:25.0) Gecko/20100101 Firefox/25.0\n",
      "['https://www.mdpi.com/327494', 'https://www.sciencedirect.com/science/article/pii/S0168169917314710', 'https://www.sciencedirect.com/science/article/pii/S0168169918304289', 'https://agupubs.onlinelibrary.wiley.com/doi/abs/10.1002/2016WR019933', 'https://academic.oup.com/erae/article-abstract/47/3/849/5552525', 'https://www.tandfonline.com/doi/abs/10.1080/01431161.2016.1278312', 'https://www.mdpi.com/2072-4292/8/6/514', 'https://ieeexplore.ieee.org/abstract/document/8534558/', 'https://ieeexplore.ieee.org/abstract/document/7225403/', 'https://www.sciencedirect.com/science/article/pii/S016816991630117X']\n",
      "10\n",
      "non\n"
     ]
    }
   ],
   "source": [
    "scholar_url = \"https://scholar.google.se/scholar?start={}&q={}&hl=fr&as_sdt=0,5&as_ylo={}&as_yhi={}\"\n",
    "\n",
    "import time\n",
    "from fake_useragent import UserAgent\n",
    "\n",
    "def get_pdf_urls(website_url, query, start_date, end_date):\n",
    "    \"\"\"\n",
    "    ARGS: query: what we want in the research bar\n",
    "         \n",
    "    OUTPUT: a list of urls linking to the articles\n",
    "    \"\"\"\n",
    "    \n",
    "    \n",
    "    #https://stackoverflow.com/questions/58873022/how-to-make-selenium-script-undetectable-using-geckodriver-and-firefox-through-p\n",
    "    profile = webdriver.FirefoxProfile('/home/martin/.mozilla/firefox/9ncorkym.ImpAgt-user')\n",
    "\n",
    "    PROXY_HOST = \"12.12.12.123\"\n",
    "    PROXY_PORT = \"1234\"\n",
    "    profile.set_preference(\"network.proxy.type\", 1)\n",
    "    profile.set_preference(\"network.proxy.http\", PROXY_HOST)\n",
    "    profile.set_preference(\"network.proxy.http_port\", int(PROXY_PORT))\n",
    "    profile.set_preference(\"dom.webdriver.enabled\", False)\n",
    "    profile.set_preference('useAutomationExtension', False)\n",
    "    profile.update_preferences()\n",
    "    \n",
    "    \n",
    "    \n",
    "    binary = FirefoxBinary('/usr/bin/firefox')\n",
    "    binary = r'/usr/bin/firefox'\n",
    "    options = Options()\n",
    "    options.set_headless(headless=True)\n",
    "    options.binary = binary\n",
    "    ua = UserAgent()\n",
    "    userAgent = ua.random\n",
    "    print(\"useragent: \", userAgent)\n",
    "    options.add_argument(f'user-agent={userAgent}')\n",
    "\n",
    "    cap = DesiredCapabilities().FIREFOX\n",
    "    cap[\"marionette\"] = True #optional\n",
    "    browser = webdriver.Firefox(firefox_profile=profile, firefox_options=options, capabilities=cap,executable_path='/home/martin/Desktop/geckodriver-v0.25.0-linux64/geckodriver')\n",
    "    \n",
    "    \n",
    "    \n",
    "    urls = []\n",
    "    for i in range (0, 10, 10):\n",
    "        size = i\n",
    "        \n",
    "        \n",
    "        \"\"\"\n",
    "        \n",
    "        binary = r'/usr/bin/firefox'\n",
    "        options = Options()\n",
    "        options.set_headless(headless=True)\n",
    "        options.binary = binary\n",
    "        ua = UserAgent()\n",
    "        userAgent = ua.random\n",
    "        print(\"useragent: \", userAgent)\n",
    "        options.add_argument(f'user-agent={userAgent}')\n",
    "\n",
    "        cap = DesiredCapabilities().FIREFOX\n",
    "        cap[\"marionette\"] = True #optional\n",
    "        browser = webdriver.Firefox(firefox_options=options, capabilities=cap,executable_path='/home/martin/Desktop/geckodriver-v0.25.0-linux64/geckodriver')\n",
    "\n",
    "        \"\"\"\n",
    "        \n",
    "        \n",
    "        \n",
    "        browser.get(website_url.format(size, query, start_date, end_date))\n",
    "        time.sleep(1)\n",
    "        scholar_html = (browser.page_source)\n",
    "        parser = \"html.parser\"\n",
    "        soup = BeautifulSoup(scholar_html, parser)\n",
    "        \n",
    "        results = soup(\"h3\", class_=\"gs_rt\")\n",
    "\n",
    "        for result in results:\n",
    "            for a in result.find_all('a', href=True):\n",
    "\n",
    "                urls.append(a['href'])\n",
    "    browser.close()\n",
    "    return urls\n",
    "\n",
    "urls = get_pdf_urls(scholar_url, \"machine+learning+agriculture\", 2015, 2020)\n",
    "print(urls)\n",
    "print(len(urls))\n",
    "\n",
    "print(\"non\")"
   ]
  },
  {
   "cell_type": "code",
   "execution_count": 12,
   "metadata": {},
   "outputs": [
    {
     "name": "stdout",
     "output_type": "stream",
     "text": [
      "['https://www.mdpi.com/327494', 'https://www.sciencedirect.com/science/article/pii/S0168169917314710', 'https://www.sciencedirect.com/science/article/pii/S0168169918304289', 'https://agupubs.onlinelibrary.wiley.com/doi/abs/10.1002/2016WR019933', 'https://academic.oup.com/erae/article-abstract/47/3/849/5552525', 'https://www.tandfonline.com/doi/abs/10.1080/01431161.2016.1278312', 'https://www.mdpi.com/2072-4292/8/6/514', 'https://ieeexplore.ieee.org/abstract/document/8534558/', 'https://ieeexplore.ieee.org/abstract/document/7225403/', 'https://www.sciencedirect.com/science/article/pii/S016816991630117X']\n",
      "url https://www.mdpi.com/327494 didnt work\n",
      "url https://www.sciencedirect.com/science/article/pii/S0168169917314710 didnt work\n",
      "url https://www.sciencedirect.com/science/article/pii/S0168169918304289 didnt work\n",
      "url https://agupubs.onlinelibrary.wiley.com/doi/abs/10.1002/2016WR019933 didnt work\n",
      "url https://academic.oup.com/erae/article-abstract/47/3/849/5552525 didnt work\n",
      "url https://www.tandfonline.com/doi/abs/10.1080/01431161.2016.1278312 didnt work\n",
      "url https://www.mdpi.com/2072-4292/8/6/514 didnt work\n",
      "url https://ieeexplore.ieee.org/abstract/document/8534558/ didnt work\n",
      "url https://ieeexplore.ieee.org/abstract/document/7225403/ didnt work\n",
      "url https://www.sciencedirect.com/science/article/pii/S016816991630117X didnt work\n",
      "0\n"
     ]
    }
   ],
   "source": [
    "\n",
    "\n",
    "\n",
    "\n",
    "\n",
    "\n",
    "\n"
   ]
  },
  {
   "cell_type": "markdown",
   "metadata": {},
   "source": [
    "Installing chrome and chromedriver on ubuntu: https://christopher.su/2015/selenium-chromedriver-ubuntu/"
   ]
  },
  {
   "cell_type": "code",
   "execution_count": 12,
   "metadata": {},
   "outputs": [
    {
     "name": "stdout",
     "output_type": "stream",
     "text": [
      "['https://www.mdpi.com/327494', 'https://www.sciencedirect.com/science/article/pii/S0168169917314710', 'https://www.sciencedirect.com/science/article/pii/S0168169918304289', 'https://agupubs.onlinelibrary.wiley.com/doi/abs/10.1002/2016WR019933', 'https://academic.oup.com/erae/article-abstract/47/3/849/5552525', 'https://www.tandfonline.com/doi/abs/10.1080/01431161.2016.1278312', 'https://link.springer.com/article/10.1007/s11119-014-9372-7', 'https://www.mdpi.com/2072-4292/8/6/514', 'https://www.sciencedirect.com/science/article/pii/S0168192315007467', 'https://www.sciencedirect.com/science/article/pii/S0168169918306987', 'https://ieeexplore.ieee.org/abstract/document/7225403/', 'https://link.springer.com/article/10.1007/s11119-017-9527-4', 'https://ieeexplore.ieee.org/abstract/document/7325900/', 'https://www.sciencedirect.com/science/article/pii/S2589721719300182', 'https://www.sciencedirect.com/science/article/pii/S0168169917314588', 'https://ieeexplore.ieee.org/abstract/document/7838138/', 'https://www.sciencedirect.com/science/article/pii/S002364381500122X', 'https://www.sciencedirect.com/science/article/pii/S016816991630117X', 'https://www.mdpi.com/2072-4292/10/8/1217', 'https://link.springer.com/chapter/10.1007/978-981-13-1274-8_6', 'https://www.aeaweb.org/articles?id=10.1257/jep.31.2.87', 'https://www.sciencedirect.com/science/article/pii/S0168169917308803', 'https://www.sciencedirect.com/science/article/pii/S1360138515002630', 'https://ieeexplore.ieee.org/abstract/document/7473819/', 'https://www.sciencedirect.com/science/article/pii/S0016706117321031', 'https://www.sciencedirect.com/science/article/pii/S0168169915003671', 'https://www.sciencedirect.com/science/article/pii/S0924271618302090', 'https://www.nature.com/articles/544S21a', 'https://link.springer.com/article/10.1007/s00704-020-03380-4', 'https://www.sciencedirect.com/science/article/pii/S235286481730247X', 'https://www.sciencedirect.com/science/article/pii/S0048969718325373', 'https://besjournals.onlinelibrary.wiley.com/doi/abs/10.1111/2041-210X.13120', 'https://www.sciencedirect.com/science/article/pii/S1360138518301572', 'https://ieeexplore.ieee.org/abstract/document/7946594/', 'https://journals.plos.org/plosone/article?id=10.1371/journal.pone.0170478', 'https://www.sciencedirect.com/science/article/pii/S0034425718300610', 'https://www.tandfonline.com/doi/abs/10.1080/01431161.2018.1433343', 'https://www.sciencedirect.com/science/article/pii/S2210537918302336', 'https://www.sciencedirect.com/science/article/pii/S0168192319301224', 'https://nph.onlinelibrary.wiley.com/doi/abs/10.1111/nph.13794', 'https://link.springer.com/article/10.1186/s13007-019-0394-z', 'https://journals.plos.org/plosone/article?id=10.1371/journal.pone.0169748', 'https://www.sciencedirect.com/science/article/pii/S0169809514003858', 'https://www.sciencedirect.com/science/article/pii/S0168192315007546', 'https://www.aeaweb.org/articles?id=10.1257/aer.p20151021', 'https://www.sciencedirect.com/science/article/pii/S1364815217311295', 'https://www.mdpi.com/2072-4292/11/2/196', 'https://link.springer.com/article/10.1007/s10705-017-9870-x', 'https://www.sciencedirect.com/science/article/pii/S1537511015304165', 'https://www.sciencedirect.com/science/article/pii/S0168169917301230', 'https://link.springer.com/article/10.1007/s40684-016-0039-x', 'https://ieeexplore.ieee.org/abstract/document/8628307/', 'https://www.sciencedirect.com/science/article/pii/S0022169418303184', 'https://www.sciencedirect.com/science/article/pii/S0168169919309482', 'https://academic.oup.com/aepp/article-abstract/40/1/79/4863692', 'https://link.springer.com/article/10.1007/s11119-016-9495-0', 'https://www.mdpi.com/1424-8220/16/11/1904', 'https://link.springer.com/article/10.1186/s40537-017-0077-4', 'https://www.sciencedirect.com/science/article/pii/S0048969718324021', 'https://www.sciencedirect.com/science/article/pii/S0957417414006186', 'https://www.aeaweb.org/articles?id=10.1257/aer.p20171038', 'https://ieeexplore.ieee.org/abstract/document/8291121/', 'https://www.nature.com/articles/s41598-017-04501-2', 'https://link.springer.com/chapter/10.1007/978-3-030-29029-0_53', 'https://ieeexplore.ieee.org/abstract/document/7375220/', 'https://www.tandfonline.com/doi/abs/10.1080/01431161.2017.1395969', 'https://www.mdpi.com/2072-4292/7/12/15841', 'https://www.sciencedirect.com/science/article/pii/S0303243415000719', 'https://www.sciencedirect.com/science/article/pii/S0092867418305920', 'https://www.cambridge.org/core/journals/journal-of-agricultural-science/article/review-of-the-use-of-convolutional-neural-networks-in-agriculture/15B08C5CDD85F21EEEFAFE7387536149', 'https://arxiv.org/abs/1906.05433', 'https://www.nber.org/papers/w24678', 'https://ieeexplore.ieee.org/abstract/document/9198508/', 'https://www.sciencedirect.com/science/article/pii/S0168169917304854', 'https://ieeexplore.ieee.org/abstract/document/7533506/', 'https://www.sciencedirect.com/science/article/pii/S0168169917315533', 'https://www.tandfonline.com/doi/abs/10.1080/01431161.2014.1001086', 'https://arxiv.org/abs/1806.06762', 'https://d-nb.info/1143424670/34', 'https://link.springer.com/article/10.1007/s10661-015-5049-6', 'https://www.sciencedirect.com/science/article/pii/S0168169918305829', 'https://patents.google.com/patent/US20160378086A1/en', 'https://www.sciencedirect.com/science/article/pii/S0168169915001994', 'https://www.sciencedirect.com/science/article/pii/S0016706114003516', 'https://www.sciencedirect.com/science/article/pii/S037567421630098X', 'https://nph.onlinelibrary.wiley.com/doi/abs/10.1111/nph.14946', 'https://www.tandfonline.com/doi/abs/10.1080/01431161.2015.1054047', 'https://www.sciencedirect.com/science/article/pii/S0022169418309302', 'https://science.sciencemag.org/content/358/6370/1530.summary', 'https://www.mdpi.com/1424-8220/18/6/1731', 'https://www.mdpi.com/2072-4292/9/12/1259', 'https://www.sciencedirect.com/science/article/pii/S1674987119302294', 'https://nph.onlinelibrary.wiley.com/doi/abs/10.1111/nph.15771', 'https://www.sciencedirect.com/science/article/pii/S0168192317300448', 'https://www.sciencedirect.com/science/article/pii/S016980951600003X', 'https://link.springer.com/article/10.1007/s00521-018-3737-1', 'https://www.mdpi.com/393892', 'https://pubs.acs.org/doi/abs/10.1021/es505846r', 'https://www.google.com/books?hl=fr&lr=&id=mSJJDwAAQBAJ&oi=fnd&pg=PR4&dq=agriculture+machine+learning&ots=ryG8yz5N8q&sig=rMw8Ghr8cZsGgRhfD3uA8sFsTiM', 'https://www.sciencedirect.com/science/article/pii/S0048969717313013']\n"
     ]
    }
   ],
   "source": [
    "import os\n",
    "import time\n",
    "from selenium import webdriver\n",
    "from selenium.webdriver.common.keys import Keys\n",
    "from selenium.webdriver.common.by import By\n",
    "from selenium.webdriver.support.ui import WebDriverWait\n",
    "from selenium.webdriver.support import expected_conditions as EC\n",
    "from bs4 import BeautifulSoup \n",
    "import requests\n",
    "\n",
    "\n",
    "scholar_url = \"https://scholar.google.se/scholar?start={}&q={}&hl=fr&as_sdt=0,5&as_ylo={}&as_yhi={}\"\n",
    "\n",
    "\n",
    "# Load driver (for Google Chrome)  \n",
    "chromedriver = \"/usr/bin/chromedriver\" # chromedriver is the connection between our python code and the browser\n",
    "os.environ[\"webdriver.chrome.driver\"] = chromedriver\n",
    "\n",
    "def get_urls(website_url, query, start_date, end_date):\n",
    "    urls = []\n",
    "    driver = webdriver.Chrome(chromedriver)\n",
    "    for i in range (0, 100, 10):\n",
    "        \n",
    "        driver.get(website_url.format(i, query, start_date, end_date))\n",
    "        time.sleep(1)\n",
    "        scholar_html = driver.page_source\n",
    "        parser = \"html.parser\"\n",
    "        soup = BeautifulSoup(scholar_html, parser)\n",
    "        \n",
    "        results = soup(\"h3\", class_=\"gs_rt\")\n",
    "\n",
    "        for result in results:\n",
    "            for a in result.find_all('a', href=True):\n",
    "                \n",
    "                urls.append(a['href'])\n",
    "      \n",
    "    driver.quit() # closing the webdriver \n",
    "    return urls\n",
    "\n",
    "urls = get_urls(scholar_url, \"agriculture+machine+learning\", 2015, 2020)\n",
    "print(urls)"
   ]
  },
  {
   "cell_type": "code",
   "execution_count": 7,
   "metadata": {},
   "outputs": [
    {
     "name": "stdout",
     "output_type": "stream",
     "text": [
      "['https://www.mdpi.com/327494', 'https://www.sciencedirect.com/science/article/pii/S0168169917314710', 'https://www.sciencedirect.com/science/article/pii/S0168169918304289', 'https://agupubs.onlinelibrary.wiley.com/doi/abs/10.1002/2016WR019933', 'https://academic.oup.com/erae/article-abstract/47/3/849/5552525', 'https://www.tandfonline.com/doi/abs/10.1080/01431161.2016.1278312', 'https://link.springer.com/article/10.1007/s11119-014-9372-7', 'https://www.mdpi.com/2072-4292/8/6/514', 'https://www.sciencedirect.com/science/article/pii/S0168192315007467', 'https://www.sciencedirect.com/science/article/pii/S0168169918306987']\n",
      "html extracted from https://www.mdpi.com/327494\n",
      "html extracted from https://www.sciencedirect.com/science/article/pii/S0168169917314710\n",
      "html extracted from https://www.sciencedirect.com/science/article/pii/S0168169918304289\n",
      "html extracted from https://agupubs.onlinelibrary.wiley.com/doi/abs/10.1002/2016WR019933\n",
      "html extracted from https://academic.oup.com/erae/article-abstract/47/3/849/5552525\n",
      "html extracted from https://www.tandfonline.com/doi/abs/10.1080/01431161.2016.1278312\n",
      "html extracted from https://link.springer.com/article/10.1007/s11119-014-9372-7\n",
      "html extracted from https://www.mdpi.com/2072-4292/8/6/514\n",
      "html extracted from https://www.sciencedirect.com/science/article/pii/S0168192315007467\n",
      "html extracted from https://www.sciencedirect.com/science/article/pii/S0168169918306987\n",
      "10\n"
     ]
    },
    {
     "data": {
      "text/plain": [
       "'\\ni=0\\nfor html in htmls:\\n    text=\\'\\'\\n    parser = \"html.parser\"\\n    soup = BeautifulSoup(html, parser)\\n    results = soup(\"div\")\\n    print(\"\\n\")\\n    print(\"********\")\\n    print(\"\\n\")\\n    for result in results:\\n        a=result.get_text()\\n        if len(a)>1000 and len(a)<4000 and \"\\n\\n\" not in a and \"ScienceDirectJournals\" not in a and \"AccessGet\" not in a :\\n            text+=\\'\\n\\'+a\\n            #print(a)\\n            #print(\"iiiiiiiiiiiiiiiii\")\\n    if len(text)>0:\\n        print(\"this ones good: \", i)\\n        print(text)\\n    else:\\n        print(i)\\n\\n    i+=1\\n'"
      ]
     },
     "execution_count": 7,
     "metadata": {},
     "output_type": "execute_result"
    }
   ],
   "source": [
    "\n",
    "# get source code\n",
    "def get_htmls():\n",
    "    htmls = []\n",
    "    print(urls)\n",
    "    for url in urls:\n",
    "\n",
    "        try:\n",
    "            driver = webdriver.Chrome(chromedriver)\n",
    "            driver.get(url)\n",
    "            htmls.append(driver.page_source)\n",
    "            print(\"html extracted from\", url)\n",
    "            driver.quit()\n",
    "        except:\n",
    "            print(\"url {} didnt work\".format(url))\n",
    "    return htmls\n",
    "#print(htmls[0])\n",
    "\n",
    "\"\"\"\n",
    "\n",
    "\"\"\""
   ]
  },
  {
   "cell_type": "code",
   "execution_count": 8,
   "metadata": {},
   "outputs": [],
   "source": [
    "def get_abstracts(htmls):\n",
    "    i=0\n",
    "    for html in htmls:\n",
    "        text=''\n",
    "        parser = \"html.parser\"\n",
    "        soup = BeautifulSoup(html, parser)\n",
    "        results = soup(\"div\")\n",
    "        print(\"\\n\")\n",
    "        print(\"********\")\n",
    "        print(\"\\n\")\n",
    "        for result in results:\n",
    "            a=result.get_text()\n",
    "            if len(a)>1000 and len(a)<4000 and \"\\n\\n\" not in a and \"ScienceDirectJournals\" not in a and \"AccessGet\" not in a :\n",
    "                text+='\\n'+a\n",
    "                #print(a)\n",
    "                #print(\"iiiiiiiiiiiiiiiii\")\n",
    "        if len(text)>0:\n",
    "            print(\"this ones good: \", i)\n",
    "            print(text)\n",
    "        else:\n",
    "            print(i)\n",
    "\n",
    "        i+=1"
   ]
  },
  {
   "cell_type": "code",
   "execution_count": 9,
   "metadata": {},
   "outputs": [
    {
     "name": "stdout",
     "output_type": "stream",
     "text": [
      "\n",
      "\n",
      "********\n",
      "\n",
      "\n",
      "this ones good:  0\n",
      "\n",
      "\n",
      "Machine learning has emerged with big data technologies and high-performance computing to create new opportunities for data intensive science in the multi-disciplinary agri-technologies domain. In this paper, we present a comprehensive review of research dedicated to applications of machine learning in agricultural production systems. The works analyzed were categorized in (a) crop management, including applications on yield prediction, disease detection, weed detection crop quality, and species recognition; (b) livestock management, including applications on animal welfare and livestock production; (c) water management; and (d) soil management. The filtering and classification of the presented articles demonstrate how agriculture will benefit from machine learning technologies. By applying machine learning to sensor data, farm management systems are evolving into real time artificial intelligence enabled programs that provide rich recommendations and insights for farmer decision support and action.\n",
      "View Full-Text\n",
      "\n",
      "\n",
      "\n",
      "********\n",
      "\n",
      "\n",
      "this ones good:  1\n",
      "\n",
      "Computers and Electronics in AgricultureVolume 151, August 2018, Pages 61-69ReviewMachine learning approaches for crop yield prediction and nitrogen status estimation in precision agriculture: A reviewAuthor links open overlay panelAnnaChlingaryanaSalahSukkariehaBrettWhelanbShow morehttps://doi.org/10.1016/j.compag.2018.05.012Get rights and contentHighlights•Review of studies in crop yield prediction and N status estimation via ML techniques.•Comparison of different ML techniques in application to the same task in PA.•Discussion on ML techniques used in the reviewed studies.AbstractAccurate yield estimation and optimised nitrogen management is essential in agriculture. Remote sensing (RS) systems are being more widely used in building decision support tools for contemporary farming systems to improve yield production and nitrogen management while reducing operating costs and environmental impact. However, RS based approaches require processing of enormous amounts of remotely sensed data from different platforms and, therefore, greater attention is currently being devoted to machine learning (ML) methods. This is due to the capability of machine learning based systems to process a large number of inputs and handle non-linear tasks. This paper discusses research developments conducted within the last 15 years on machine learning based techniques for accurate crop yield prediction and nitrogen status estimation. The paper concludes that the rapid advances in sensing technologies and ML techniques will provide cost-effective and comprehensive solutions for better crop and environment state estimation and decision making. More targeted application of the sensor platforms and ML techniques, the fusion of different sensor modalities and expert knowledge, and the development of hybrid systems combining different ML and signal processing techniques are all likely to be part of precision agriculture (PA) in the near future.Previous article in issueNext article in issueKeywordsVegetation indicesFeatures extractionPredictive modellingDecision makingInformation fusionRecommended articlesCiting articles (0)View full textPublished by Elsevier B.V.Recommended articlesNo articles found.Citing articlesArticle MetricsView article metrics\n",
      "Highlights•Review of studies in crop yield prediction and N status estimation via ML techniques.•Comparison of different ML techniques in application to the same task in PA.•Discussion on ML techniques used in the reviewed studies.AbstractAccurate yield estimation and optimised nitrogen management is essential in agriculture. Remote sensing (RS) systems are being more widely used in building decision support tools for contemporary farming systems to improve yield production and nitrogen management while reducing operating costs and environmental impact. However, RS based approaches require processing of enormous amounts of remotely sensed data from different platforms and, therefore, greater attention is currently being devoted to machine learning (ML) methods. This is due to the capability of machine learning based systems to process a large number of inputs and handle non-linear tasks. This paper discusses research developments conducted within the last 15 years on machine learning based techniques for accurate crop yield prediction and nitrogen status estimation. The paper concludes that the rapid advances in sensing technologies and ML techniques will provide cost-effective and comprehensive solutions for better crop and environment state estimation and decision making. More targeted application of the sensor platforms and ML techniques, the fusion of different sensor modalities and expert knowledge, and the development of hybrid systems combining different ML and signal processing techniques are all likely to be part of precision agriculture (PA) in the near future.\n",
      "AbstractAccurate yield estimation and optimised nitrogen management is essential in agriculture. Remote sensing (RS) systems are being more widely used in building decision support tools for contemporary farming systems to improve yield production and nitrogen management while reducing operating costs and environmental impact. However, RS based approaches require processing of enormous amounts of remotely sensed data from different platforms and, therefore, greater attention is currently being devoted to machine learning (ML) methods. This is due to the capability of machine learning based systems to process a large number of inputs and handle non-linear tasks. This paper discusses research developments conducted within the last 15 years on machine learning based techniques for accurate crop yield prediction and nitrogen status estimation. The paper concludes that the rapid advances in sensing technologies and ML techniques will provide cost-effective and comprehensive solutions for better crop and environment state estimation and decision making. More targeted application of the sensor platforms and ML techniques, the fusion of different sensor modalities and expert knowledge, and the development of hybrid systems combining different ML and signal processing techniques are all likely to be part of precision agriculture (PA) in the near future.\n",
      "Accurate yield estimation and optimised nitrogen management is essential in agriculture. Remote sensing (RS) systems are being more widely used in building decision support tools for contemporary farming systems to improve yield production and nitrogen management while reducing operating costs and environmental impact. However, RS based approaches require processing of enormous amounts of remotely sensed data from different platforms and, therefore, greater attention is currently being devoted to machine learning (ML) methods. This is due to the capability of machine learning based systems to process a large number of inputs and handle non-linear tasks. This paper discusses research developments conducted within the last 15 years on machine learning based techniques for accurate crop yield prediction and nitrogen status estimation. The paper concludes that the rapid advances in sensing technologies and ML techniques will provide cost-effective and comprehensive solutions for better crop and environment state estimation and decision making. More targeted application of the sensor platforms and ML techniques, the fusion of different sensor modalities and expert knowledge, and the development of hybrid systems combining different ML and signal processing techniques are all likely to be part of precision agriculture (PA) in the near future.\n",
      "\n",
      "\n",
      "********\n",
      "\n",
      "\n",
      "this ones good:  2\n",
      "\n",
      "Computers and Electronics in AgricultureVolume 156, January 2019, Pages 585-605ReviewCurrent and future applications of statistical machine learning algorithms for agricultural machine vision systemsAuthor links open overlay panelTanzeel U.Rehmana1Md. SultanMahmudb1Young K.ChangbJianJinaJaemyungShinbShow morehttps://doi.org/10.1016/j.compag.2018.12.006Get rights and contentHighlights•Overview of agricultural machine vision system using statistical ML algorithms.•Supervised statistical ML algorithms include naïve Bayes, DA, kNN and SVMs.•Unsupervised ones include K-means clustering, Fuzzy clustering and GMM.•Highlight the limitations of different statistical ML algorithms in agriculture.•Suggest effective statistical ML algorithms in each specific area in agriculture.AbstractWith being rapid increasing population in worldwide, the need for satisfactory level of crop production with decreased amount of agricultural lands. Machine vision would ensure the increase of crop production by using an automated, non-destructive and cost-effective technique. In last few years, remarkable results have been achieved in different sectors of agriculture. These achievements are integrated with machine learning techniques on machine vision approach that cope with colour, shape, texture and spectral analysis from the image of objects. Despite having many applications of different machine learning techniques, this review only described the statistical machine learning technologies with machine vision systems in agriculture due to broad area of machine learning applications. Two types of statistical machine learning techniques such as supervised and unsupervised learning have been utilized for agriculture. This paper comprehensively surveyed current application of statistical machine learning techniques in machine vision systems, analyses each technique potential for specific application and represents an overview of instructive examples in different agricultural areas. Suggestions of specific statistical machine learning technique for specific purpose and limitations of each technique are also given. Future trends of statistical machine learning technology applications are discussed.Previous article in issueNext article in issueKeywordsMachine visionStatistical machine learningNaïve BayesDiscriminant analysisk-Nearest NeighbourSupport vector machinesK-means clusteringFuzzy clusteringGaussian mixture modelRecommended articlesCiting articles (0)1These authors contributed equally to this study.View full text© 2018 Elsevier B.V. All rights reserved.Recommended articlesNo articles found.Citing articlesArticle MetricsView article metrics\n",
      "Highlights•Overview of agricultural machine vision system using statistical ML algorithms.•Supervised statistical ML algorithms include naïve Bayes, DA, kNN and SVMs.•Unsupervised ones include K-means clustering, Fuzzy clustering and GMM.•Highlight the limitations of different statistical ML algorithms in agriculture.•Suggest effective statistical ML algorithms in each specific area in agriculture.AbstractWith being rapid increasing population in worldwide, the need for satisfactory level of crop production with decreased amount of agricultural lands. Machine vision would ensure the increase of crop production by using an automated, non-destructive and cost-effective technique. In last few years, remarkable results have been achieved in different sectors of agriculture. These achievements are integrated with machine learning techniques on machine vision approach that cope with colour, shape, texture and spectral analysis from the image of objects. Despite having many applications of different machine learning techniques, this review only described the statistical machine learning technologies with machine vision systems in agriculture due to broad area of machine learning applications. Two types of statistical machine learning techniques such as supervised and unsupervised learning have been utilized for agriculture. This paper comprehensively surveyed current application of statistical machine learning techniques in machine vision systems, analyses each technique potential for specific application and represents an overview of instructive examples in different agricultural areas. Suggestions of specific statistical machine learning technique for specific purpose and limitations of each technique are also given. Future trends of statistical machine learning technology applications are discussed.\n",
      "AbstractWith being rapid increasing population in worldwide, the need for satisfactory level of crop production with decreased amount of agricultural lands. Machine vision would ensure the increase of crop production by using an automated, non-destructive and cost-effective technique. In last few years, remarkable results have been achieved in different sectors of agriculture. These achievements are integrated with machine learning techniques on machine vision approach that cope with colour, shape, texture and spectral analysis from the image of objects. Despite having many applications of different machine learning techniques, this review only described the statistical machine learning technologies with machine vision systems in agriculture due to broad area of machine learning applications. Two types of statistical machine learning techniques such as supervised and unsupervised learning have been utilized for agriculture. This paper comprehensively surveyed current application of statistical machine learning techniques in machine vision systems, analyses each technique potential for specific application and represents an overview of instructive examples in different agricultural areas. Suggestions of specific statistical machine learning technique for specific purpose and limitations of each technique are also given. Future trends of statistical machine learning technology applications are discussed.\n",
      "With being rapid increasing population in worldwide, the need for satisfactory level of crop production with decreased amount of agricultural lands. Machine vision would ensure the increase of crop production by using an automated, non-destructive and cost-effective technique. In last few years, remarkable results have been achieved in different sectors of agriculture. These achievements are integrated with machine learning techniques on machine vision approach that cope with colour, shape, texture and spectral analysis from the image of objects. Despite having many applications of different machine learning techniques, this review only described the statistical machine learning technologies with machine vision systems in agriculture due to broad area of machine learning applications. Two types of statistical machine learning techniques such as supervised and unsupervised learning have been utilized for agriculture. This paper comprehensively surveyed current application of statistical machine learning techniques in machine vision systems, analyses each technique potential for specific application and represents an overview of instructive examples in different agricultural areas. Suggestions of specific statistical machine learning technique for specific purpose and limitations of each technique are also given. Future trends of statistical machine learning technology applications are discussed.\n"
     ]
    },
    {
     "name": "stdout",
     "output_type": "stream",
     "text": [
      "\n",
      "\n",
      "********\n",
      "\n",
      "\n",
      "this ones good:  3\n",
      "\n",
      "\n",
      "Climate, groundwater extraction, and surface water flows have complex nonlinear relationships with groundwater level in agricultural regions. To better understand the relative importance of each driver and predict groundwater level change, we develop a new ensemble modeling framework based on spectral analysis, machine learning, and uncertainty analysis, as an alternative to complex and computationally expensive physical models. We apply and evaluate this new approach in the context of two aquifer systems supporting agricultural production in the United States: the High Plains aquifer (HPA) and the Mississippi River Valley alluvial aquifer (MRVA). We select input data sets by using a combination of mutual information, genetic algorithms, and lag analysis, and then use the selected data sets in a Multilayer Perceptron network architecture to simulate seasonal groundwater level change. As expected, model results suggest that irrigation demand has the highest influence on groundwater level change for a majority of the wells. The subset of groundwater observations not used in model training or cross‐validation correlates strongly (R > 0.8) with model results for 88 and 83% of the wells in the HPA and MRVA, respectively. In both aquifer systems, the error in the modeled cumulative groundwater level change during testing (2003–2012) was less than 2 m over a majority of the area. We conclude that our modeling framework can serve as an alternative approach to simulating groundwater level change and water availability, especially in regions where subsurface properties are unknown.\n",
      "\n",
      "\n",
      "\n",
      "********\n",
      "\n",
      "\n",
      "this ones good:  4\n",
      "\n",
      "For the case where treatment is assigned based on a complex or non-linear combination of observables, ML may help flexibly model selection. DML combines the predictive power of ML with an approach to address regularisation bias (Belloni et al., 2016; Chernozhukov et al., 2017, 2018a). Consider the following model where the outcome of interest is the additive effect of treatment plus some non-linear function of covariates (1), and those same covariates non-linearly determine treatment (2):  Y=Dθ0+g0(X)+U;E[U|D,X]=0(1) D=m0(X)+V;E[V|X]=0(2)where Y is the outcome variable, D the treatment, θ0 the marginal treatment effect, and g0 and m0 are functions depending on controls, X. The error terms U and V are mean zero conditional on the respective right-hand side variables. A large dimension of X combined with a complex g0(X) complicates the estimation of g0(X) with standard econometric estimators, suggesting the employment of flexible ML tools such as lasso, random forests or NN. However, the regularisation bias inherent in such tools would render a naive application and subsequent estimation of θ0 biased. The idea behind DML is to offset the regularisation bias by stripping out the effect of X from D. In a first step, split the sample, train ˆg0(X) based on equation (1) and ˆm0(X) based on equation (2) using one part of the sample. This step is responsible for the name of the approach. In the second step, regress Y−ˆg0(X) on the orthogonalised D: ˆVD=(D−^m0(X))D to obtain ˆθ0 from equation (1) using the main sample. Note that by removing the influence of X on D and subtracting ˆg0(X) from the outcome in the second step removes the regularisation bias. Further, splitting the sample avoids the bias otherwise caused by overfitting (Chernozhukov et al., 2018a: C4–C7). This approach is analogous to a linear instrumental variable (IV) estimator in classical econometrics, where one strips out the non-linear part of Y and includes the estimated residuals from a reduced form regression in the structural equation, and follows the spirit of ‘debiased lasso’ (Belloni and Chernozhukov, 2013; Belloni, Chernozhukov and Hansen, 2014). The DML approach is very flexible with respect to the ML technique applied in the first step. Chernozhukov et al. (2017) use k-fold cross fitting in their illustrative note but any supervised learning approach such as boosted trees, random forests or NNs could be used. DML can also be used to estimate the coefficient of an endogenous variable in a partially linear instrumental variables model, or the local average treatment effect (Chernozhukov et al., 2017). While it holds much potential for settings with non-linear treatment assignment or outcomes that are non-linear functions of observables, note that this method assumes that the treatment effect itself is additive.\n",
      "To understand the concept of Deep IV, consider the structural equation (following Hartford et al., 2016):  Y=g(D,X)+U(3)where Y is the outcome variable equal to the sum of a potentially non-linear function g(D, X) and an error U with an unconditional mean zero. The vector of covariates X is exogenous, whereas the policy or treatment variable D is correlated with the error U such that E[U|D,X]≠0 and is therefore endogenous. If g(D, X) was linear and an instrument was available, one could apply the typical 2SLS estimation. Here, for a counterfactual prediction, we would like to obtain a function predicting E[Y|D,X] such that  h(D,X)=g(D,X)+E[U|X],(4)i.e. holding the distribution of U constant as D changes. If we had h(D,X), we could identify the effect of changing policy from D0 to D1 through the counterfactual simulation: h(D1,X)−h(D0,X)=g(D1,X)−g(D0,X)⁠. Non-structural ML applied to equation (3), however, would result in a prediction function where the expectation of the error is conditional on the policy variable, and instead obtain E[Y|D,X] = g(D,X)+E[U|D,X]⁠, which is not equal to h(D,X)⁠. Consequently, a counterfactual simulation with this conditional expectation leads to a biased estimation of the policy effect. The availability of a vector of instruments Z, defined as variables excluded from X, relevant for predicting D and uncorrelated with U, allows us to obtain the prediction function in equation (4). Due to the potential (and likely) non-linearity of g(D, X), the approach is somewhat more involved than 2SLS but follows the same logic. Taking expectation of equation (3) conditional on X and Z gives us  E[Y|X,Z]=g(D,X|X,Z)+E[U|X,Z]=∫h(D,X)dF(D|X,Z)(5)where F(D|X,Z) is the conditional distribution of treatment given the covariates and instruments. Hartford et al. (2016) suggest obtaining an estimate of h(D,X) by first learning the distribution of treatment ˆF(D|X,Z)(first stage) and then the expectation of outcome given treatment ˆh(D,X) from minimising a quadratic loss function of the difference between Y and the integral, given ˆF(D|X,Z) (second stage). Note that if g(D,X) and F(D|X,Z) are linear, we return to the traditional 2SLS approach where the integral disappears and two sequential OLS estimates do the trick. Hartford et al. (2017) lay out an ML approach that uses a supervised ML in both the first and second stage. The first stage estimation approach is a straightforward supervised prediction task where flexible ML tools, such as NN, can be used to predict complex non-linear effects of the instruments and controls on treatment. The second stage is also a supervised ML setting. However, training a NN for this task is more complex as it requires evaluating an integral to derive the gradients of the loss function during training. Hartford et al. (2017) propose a stochastic gradient descent approach using MC approximation that can efficiently be applied in a large dataset. The authors stress that the Deep IV approach can be applied using readily available ML techniques without customisation, thereby opening opportunities for applied economics research.\n",
      "\n",
      "\n",
      "********\n",
      "\n",
      "\n",
      "this ones good:  5\n",
      "\n",
      "2.1. Study site and datasetThe study area corresponds to a Chilean central valley (70°40′7″W, 32°48′11″S) mostly characterized by small agricultural parcels with crops of full canopy coverage and orchards. A WorldView-2 (WV-2) satellite image, acquired on 3 December 2011, was used in this study. The WV-2 image has a spatial resolution of 2.4 m and four spectral bands which properties are described in Table 1. To evaluate the proposed approach, two regions of 522 × 522 pixels each were clipped from the WV-2 scene (Figure 1). Figure 1(a,b) correspond to the areas under analysis, from here on called Image A and Image B, respectively. Agricultural parcels in both images have been manually delineated obtaining reference parcel maps. A machine learning approach for agricultural parcel delineation through agglomerative segmentationAll authorsA. García-Pedrero, C. Gonzalo-Martín & M. Lillo-Saavedrahttps://doi.org/10.1080/01431161.2016.1278312Published online:31 January 2017Table 1.  Spectral properties of the WV-2 images.CSVDisplay Table A machine learning approach for agricultural parcel delineation through agglomerative segmentationAll authorsA. García-Pedrero, C. Gonzalo-Martín & M. Lillo-Saavedrahttps://doi.org/10.1080/01431161.2016.1278312Published online:31 January 2017Figure 1.  Study areas are shown in a real colour composition. Borders of each parcel are displayed in red. (a) and (b) Correspond to Images A and B, respectively.Display full sizeFigure 1.  Study areas are shown in a real colour composition. Borders of each parcel are displayed in red. (a) and (b) Correspond to Images A and B, respectively.\n",
      "2.2.1. Superpixel processingA superpixel is a small, local, and coherent cluster which contains a statistically homogeneous image region according to certain criteria such as colour, texture, among others (Ren and Malik 2003Ren, X., and J. Malik. 2003. “Learning a Classification Model for Segmentation.” In Computer Vision, 2003. Proceedings. Ninth IEEE International Conference on, October10–17, edited by Bob Werner, Vol. 1. Los Alamitos, California: IEEE. [Google Scholar]). Superpixels are a form of image segmentation, but the focus lies more on an image over-segmentation, not on segmenting meaningful objects (Schick and Stiefelhagen 2011Schick, A., and R. Stiefelhagen. 2011. “Evaluating Image Segments by Applying the Description Length to Sets of Superpixels.” In Computer Vision Workshops (ICCV Workshops), 2011 IEEE International Conference on, 1394–1401. IEEE. [Google Scholar]). In this regard, superpixel processing is not seen as an end in itself but rather a preprocessing step in order to solve a major problem, in this case the efficient analysis of a scene. Superpixel techniques enhance image analysis, e.g. reducing the influence of noise and intra-class spectral variability, preserving most edges of images, and improving the computational speed of later steps such as the segmentation of meaningful objects (Achanta et al. 2012Achanta, R., A. Shaji, K. Smith, A. Lucchi, P. Fua, and S. Süsstrunk. 2012. “SLIC Superpixels Compared to State-Of-The-Art Superpixel Methods.” IEEE Transactions on Pattern Analysis and Machine Intelligence 34 (11): 2274–2282. doi:10.1109/TPAMI.2012.120. [Crossref], [PubMed], [Web of Science ®], [Google Scholar]).Superpixel processing is carried out by a modified version of the segmentation method called simple linear iterative clustering (SLIC) (Achanta et al. 2012Achanta, R., A. Shaji, K. Smith, A. Lucchi, P. Fua, and S. Süsstrunk. 2012. “SLIC Superpixels Compared to State-Of-The-Art Superpixel Methods.” IEEE Transactions on Pattern Analysis and Machine Intelligence 34 (11): 2274–2282. doi:10.1109/TPAMI.2012.120. [Crossref], [PubMed], [Web of Science ®], [Google Scholar]), which is in turn based on the well-known k-means method, to group image pixels into superpixels. The original SLIC algorithm works in the RGB colour space (defined by only the Red, Green, and Blue spectral bands) and considers two parameters: k, the desired number of superpixels, and c, the compactness factor. A larger value of c emphasizes the importance of the spatial proximity resulting in more compact superpixels. The SLIC version used in this work corresponds to the implemented by Gonzalo Martín et al. (2015Gonzalo Martín, C., E. Menasalvas, M. Lillo Saavedra, D. Fonseca-Luengo, A. Garcia-Pedrero, and R. Costumero. 2015. “Local Optimal Scale in a Hierarchical Segmentation Method for Satellite Images.” Journal of Intelligent Information Systems 46(3): 517-529. [PubMed], [Web of Science ®], [Google Scholar]), which extends the method to work with multispectral images.\n",
      "\n",
      "\n",
      "********\n",
      "\n",
      "\n",
      "this ones good:  6\n",
      "\n",
      "AbstractEffective crop protection requires early and accurate detection of biotic stress. In recent years, remarkable results have been achieved in the early detection of weeds, plant diseases and insect pests in crops. These achievements are related both to the development of non-invasive, high resolution optical sensors and data analysis methods that are able to cope with the resolution, size and complexity of the signals from these sensors. Several methods of machine learning have been utilized for precision agriculture such as support vector machines and neural networks for classification (supervised learning); k-means and self-organizing maps for clustering (unsupervised learning). These methods are able to calculate both linear and non-linear models, require few statistical assumptions and adapt flexibly to a wide range of data characteristics. Successful applications include the early detection of plant diseases based on spectral features and weed detection based on shape descriptors with supervised or unsupervised learning methods. This review gives a short introduction into machine learning, analyses its potential for precision crop protection and provides an overview of instructive examples from different fields of precision agriculture.\n",
      "Effective crop protection requires early and accurate detection of biotic stress. In recent years, remarkable results have been achieved in the early detection of weeds, plant diseases and insect pests in crops. These achievements are related both to the development of non-invasive, high resolution optical sensors and data analysis methods that are able to cope with the resolution, size and complexity of the signals from these sensors. Several methods of machine learning have been utilized for precision agriculture such as support vector machines and neural networks for classification (supervised learning); k-means and self-organizing maps for clustering (unsupervised learning). These methods are able to calculate both linear and non-linear models, require few statistical assumptions and adapt flexibly to a wide range of data characteristics. Successful applications include the early detection of plant diseases based on spectral features and weed detection based on shape descriptors with supervised or unsupervised learning methods. This review gives a short introduction into machine learning, analyses its potential for precision crop protection and provides an overview of instructive examples from different fields of precision agriculture.\n",
      "Author informationAffiliationsInstitute of Geodesy and Geoinformation (IGG) - Geoinformation, University of Bonn, Meckenheimer Allee 172, 53115, Bonn, GermanyJan Behmann, Till Rumpf, Christoph Römer & Lutz PlümerInstitute of Crop Science and Resource Conservation (INRES) - Phytomedicine, University of Bonn, Nussallee 9, 53115, Bonn, GermanyAnne-Katrin MahleinAuthorsJan BehmannView author publicationsYou can also search for this author in\n",
      "                        PubMed Google ScholarAnne-Katrin MahleinView author publicationsYou can also search for this author in\n",
      "                        PubMed Google ScholarTill RumpfView author publicationsYou can also search for this author in\n",
      "                        PubMed Google ScholarChristoph RömerView author publicationsYou can also search for this author in\n",
      "                        PubMed Google ScholarLutz PlümerView author publicationsYou can also search for this author in\n",
      "                        PubMed Google ScholarCorresponding authorCorrespondence to\n",
      "                Jan Behmann.\n",
      "AffiliationsInstitute of Geodesy and Geoinformation (IGG) - Geoinformation, University of Bonn, Meckenheimer Allee 172, 53115, Bonn, GermanyJan Behmann, Till Rumpf, Christoph Römer & Lutz PlümerInstitute of Crop Science and Resource Conservation (INRES) - Phytomedicine, University of Bonn, Nussallee 9, 53115, Bonn, GermanyAnne-Katrin MahleinAuthorsJan BehmannView author publicationsYou can also search for this author in\n",
      "                        PubMed Google ScholarAnne-Katrin MahleinView author publicationsYou can also search for this author in\n",
      "                        PubMed Google ScholarTill RumpfView author publicationsYou can also search for this author in\n",
      "                        PubMed Google ScholarChristoph RömerView author publicationsYou can also search for this author in\n",
      "                        PubMed Google ScholarLutz PlümerView author publicationsYou can also search for this author in\n",
      "                        PubMed Google ScholarCorresponding authorCorrespondence to\n",
      "                Jan Behmann.\n",
      "Your PrivacyYour PrivacyWhen you visit any website, it may store or retrieve information on your browser, mostly in the form of cookies. This information might be about you, your preferences or your device and is mostly used to make the site work as you expect it to. The information does not usually directly identify you, but it can give you a more personalized web experience. Because we respect your right to privacy, you can choose not to allow some types of cookies. Click on the different category headings to find out more and change our default settings. However, blocking some types of cookies may impact your experience of the site and the services we are able to offer.Strictly Necessary CookiesStrictly Necessary CookiesAlways Active  Strictly Necessary CookiesThese cookies are necessary for the website to function and cannot be switched off in our systems. They are usually only set in response to actions made by you which amount to a request for services, such as setting your privacy preferences, logging in or filling in forms. You can set your browser to block or alert you about these cookies, but some parts of the site will not then work. These cookies do not store any personally identifiable information.Cookies Details‎Performance CookiesPerformance Cookies  Performance CookiesThese cookies allow us to count visits and traffic sources so we can measure and improve the performance of our site. They help us to know which pages are the most and least popular and see how visitors move around the site. All information these cookies collect is aggregated and therefore anonymous. If you do not allow these cookies we will not know when you have visited our site, and will not be able to monitor its performance.Cookies Details‎Functional CookiesFunctional Cookies  Functional CookiesThese cookies enable the website to provide enhanced functionality and personalisation. They may be set by us or by third party providers whose services we have added to our pages. If you do not allow these cookies then some or all of these services may not function properly.Cookies Details‎Targeting CookiesTargeting Cookies  Targeting CookiesThese cookies may be set through our site by our advertising partners. They may be used by those companies to build a profile of your interests and show you relevant adverts on other sites. They do not store directly personal information, but are based on uniquely identifying your browser and internet device. If you do not allow these cookies, you will experience less targeted advertising.Cookies Details‎Targeting (1st Party)Targeting (1st Party)  Targeting (1st Party)These cookies may be set through our site by ourselves. They may be used by ourselves to build a profile of your interests and show you relevant content or adverts on our sites. They do not store directly personal information, but are based on uniquely identifying your browser and internet device. If you do not allow these cookies, you may experience less personalised content and/or advertising.Cookies Details‎Targeting (3rd Party)Targeting (3rd Party)  Targeting (3rd Party)These cookies may be set through our site by our advertising partners. They may be used by those companies to build a profile of your interests and show you relevant adverts on other sites. They do not store directly personal information, but are based on uniquely identifying your browser and internet device. If you do not allow these cookies, you will experience less targeted advertising.Cookies Details‎\n",
      "Your PrivacyYour PrivacyWhen you visit any website, it may store or retrieve information on your browser, mostly in the form of cookies. This information might be about you, your preferences or your device and is mostly used to make the site work as you expect it to. The information does not usually directly identify you, but it can give you a more personalized web experience. Because we respect your right to privacy, you can choose not to allow some types of cookies. Click on the different category headings to find out more and change our default settings. However, blocking some types of cookies may impact your experience of the site and the services we are able to offer.Strictly Necessary CookiesStrictly Necessary CookiesAlways Active  Strictly Necessary CookiesThese cookies are necessary for the website to function and cannot be switched off in our systems. They are usually only set in response to actions made by you which amount to a request for services, such as setting your privacy preferences, logging in or filling in forms. You can set your browser to block or alert you about these cookies, but some parts of the site will not then work. These cookies do not store any personally identifiable information.Cookies Details‎Performance CookiesPerformance Cookies  Performance CookiesThese cookies allow us to count visits and traffic sources so we can measure and improve the performance of our site. They help us to know which pages are the most and least popular and see how visitors move around the site. All information these cookies collect is aggregated and therefore anonymous. If you do not allow these cookies we will not know when you have visited our site, and will not be able to monitor its performance.Cookies Details‎Functional CookiesFunctional Cookies  Functional CookiesThese cookies enable the website to provide enhanced functionality and personalisation. They may be set by us or by third party providers whose services we have added to our pages. If you do not allow these cookies then some or all of these services may not function properly.Cookies Details‎Targeting CookiesTargeting Cookies  Targeting CookiesThese cookies may be set through our site by our advertising partners. They may be used by those companies to build a profile of your interests and show you relevant adverts on other sites. They do not store directly personal information, but are based on uniquely identifying your browser and internet device. If you do not allow these cookies, you will experience less targeted advertising.Cookies Details‎Targeting (1st Party)Targeting (1st Party)  Targeting (1st Party)These cookies may be set through our site by ourselves. They may be used by ourselves to build a profile of your interests and show you relevant content or adverts on our sites. They do not store directly personal information, but are based on uniquely identifying your browser and internet device. If you do not allow these cookies, you may experience less personalised content and/or advertising.Cookies Details‎Targeting (3rd Party)Targeting (3rd Party)  Targeting (3rd Party)These cookies may be set through our site by our advertising partners. They may be used by those companies to build a profile of your interests and show you relevant adverts on other sites. They do not store directly personal information, but are based on uniquely identifying your browser and internet device. If you do not allow these cookies, you will experience less targeted advertising.Cookies Details‎\n",
      "Your PrivacyYour PrivacyWhen you visit any website, it may store or retrieve information on your browser, mostly in the form of cookies. This information might be about you, your preferences or your device and is mostly used to make the site work as you expect it to. The information does not usually directly identify you, but it can give you a more personalized web experience. Because we respect your right to privacy, you can choose not to allow some types of cookies. Click on the different category headings to find out more and change our default settings. However, blocking some types of cookies may impact your experience of the site and the services we are able to offer.Strictly Necessary CookiesStrictly Necessary CookiesAlways Active  Strictly Necessary CookiesThese cookies are necessary for the website to function and cannot be switched off in our systems. They are usually only set in response to actions made by you which amount to a request for services, such as setting your privacy preferences, logging in or filling in forms. You can set your browser to block or alert you about these cookies, but some parts of the site will not then work. These cookies do not store any personally identifiable information.Cookies Details‎Performance CookiesPerformance Cookies  Performance CookiesThese cookies allow us to count visits and traffic sources so we can measure and improve the performance of our site. They help us to know which pages are the most and least popular and see how visitors move around the site. All information these cookies collect is aggregated and therefore anonymous. If you do not allow these cookies we will not know when you have visited our site, and will not be able to monitor its performance.Cookies Details‎Functional CookiesFunctional Cookies  Functional CookiesThese cookies enable the website to provide enhanced functionality and personalisation. They may be set by us or by third party providers whose services we have added to our pages. If you do not allow these cookies then some or all of these services may not function properly.Cookies Details‎Targeting CookiesTargeting Cookies  Targeting CookiesThese cookies may be set through our site by our advertising partners. They may be used by those companies to build a profile of your interests and show you relevant adverts on other sites. They do not store directly personal information, but are based on uniquely identifying your browser and internet device. If you do not allow these cookies, you will experience less targeted advertising.Cookies Details‎Targeting (1st Party)Targeting (1st Party)  Targeting (1st Party)These cookies may be set through our site by ourselves. They may be used by ourselves to build a profile of your interests and show you relevant content or adverts on our sites. They do not store directly personal information, but are based on uniquely identifying your browser and internet device. If you do not allow these cookies, you may experience less personalised content and/or advertising.Cookies Details‎Targeting (3rd Party)Targeting (3rd Party)  Targeting (3rd Party)These cookies may be set through our site by our advertising partners. They may be used by those companies to build a profile of your interests and show you relevant adverts on other sites. They do not store directly personal information, but are based on uniquely identifying your browser and internet device. If you do not allow these cookies, you will experience less targeted advertising.Cookies Details‎\n",
      "\n",
      "\n",
      "********\n",
      "\n",
      "\n",
      "this ones good:  7\n",
      "\n",
      "\n",
      "Land cover mapping (LCM) in complex surface-mined and agricultural landscapes could contribute greatly to regulating mine exploitation and protecting mine geo-environments. However, there are some special and spectrally similar land covers in these landscapes which increase the difficulty in LCM when employing high spatial resolution images. There is currently no research on these mixed complex landscapes. The present study focused on LCM in such a mixed complex landscape located in Wuhan City, China. A procedure combining ZiYuan-3 (ZY-3) stereo satellite imagery, the feature selection (FS) method, and machine learning algorithms (MLAs) (random forest, RF; support vector machine, SVM; artificial neural network, ANN) was proposed and first examined for both LCM of surface-mined and agricultural landscapes (MSMAL) and classification of surface-mined land (CSML), respectively. The mean and standard deviation filters of spectral bands and topographic features derived from ZY-3 stereo images were newly introduced. Comparisons of three MLAs, including their sensitivities to FS and whether FS resulted in significant influences, were conducted for the first time in the present study. The following conclusions are drawn. Textures were of little use, and the novel features contributed to improve classification accuracy. Regarding the influence of FS: FS substantially reduced feature set (by 68% for MSMAL and 87% for CSML), and often improved classification accuracies (with an average value of 4.48% for MSMAL using three MLAs, and 11.39% for CSML using RF and SVM); FS showed statistically significant improvements except for ANN-based MSMAL; SVM was most sensitive to FS, followed by ANN and RF. Regarding comparisons of MLAs: for MSMAL based on feature subset, RF achieved the greatest overall accuracy of 77.57%, followed by SVM and ANN; for CSML, SVM had the highest accuracies (87.34%), followed by RF and ANN; based on the feature subsets, significant differences were observed for MSMAL and CSML using any pair of MLAs. In general, the proposed approach can contribute to LCM in complex surface-mined and agricultural landscapes.\n",
      "View Full-Text\n",
      "\n",
      "\n",
      "\n",
      "********\n",
      "\n",
      "\n",
      "this ones good:  8\n",
      "\n",
      "Agricultural and Forest MeteorologyVolume 216, 15 January 2016, Pages 157-169Drought assessment and monitoring through blending of multi-sensor indices using machine learning approaches for different climate regionsAuthor links open overlay panelSeonyoungParkaJunghoImaEunnaJangaJinyoungRheebShow morehttps://doi.org/10.1016/j.agrformet.2015.10.011Get rights and contentHighlights•Multi-sensor data are used to assess meteorological and agricultural drought.•Machine learning approaches are used to examine the importance of drought factors.•Drought indicators are developed to monitor meteorological and agricultural drought.•Satellite-based drought monitoring is assessed for different climate regions.AbstractDrought triggered by a deficit of precipitation, is influenced by various environmental factors such as temperature and evapotranspiration, and causes water shortage and crop failure problems. In this study, sixteen remote sensing based drought factors from the Moderate Resolution Imaging Spectroradiometer (MODIS) and Tropical Rainfall Measuring Mission (TRMM) satellite sensors were used to monitor meteorological and agricultural drought during 2000–2012 growing seasons for different climate regions in the USA. Standardized Precipitation Index (SPI) with time scales from 1 to 12 months and crop yield data were used as reference data of meteorological and agricultural drought, respectively. The relationship between sixteen remote sensing based drought factors and in situ reference data was modeled through three machine learning approaches: random forest, boosted regression trees, and Cubist, which have proved to be robust and flexible in many regression tasks. Results showed that random forest produced the best performance (R2 = 0.93, RMSE = 0.3) for SPI prediction among the three approaches. Land surface-related drought factors, e.g., Land Surface Temperature (LST) and Evapotranspiration (ET) showed higher relative importance for short-term meteorological drought while vegetation-related drought factors, e.g., Normalized Difference Vegetation Index (NDVI) and Normalized Multi-band Drought Index (NMDI) showed higher relative importance for long-term meteorological drought by random forest. Six drought factors were selected based on the relative importance by their category to develop drought indicators that represent meteorological and agricultural drought by using the relative importance as weights. While TRMM showed higher relative importance for meteorological drought, LST and NDVI showed higher relative importance for agricultural drought in the arid and humid regions, respectively. Finally, drought distribution maps were produced using the drought indicators and compared with the U.S. Drought Monitor (USDM) maps, which showed a strong visual agreement.Previous article in issueNext article in issueKeywordsDrought monitoringMODISTRMMRandom forestBoosted regression treesCubistRecommended articlesCiting articles (0)Copyright © 2015 Elsevier B.V. All rights reserved.Recommended articlesNo articles found.Citing articlesArticle MetricsView article metrics\n",
      "Highlights•Multi-sensor data are used to assess meteorological and agricultural drought.•Machine learning approaches are used to examine the importance of drought factors.•Drought indicators are developed to monitor meteorological and agricultural drought.•Satellite-based drought monitoring is assessed for different climate regions.AbstractDrought triggered by a deficit of precipitation, is influenced by various environmental factors such as temperature and evapotranspiration, and causes water shortage and crop failure problems. In this study, sixteen remote sensing based drought factors from the Moderate Resolution Imaging Spectroradiometer (MODIS) and Tropical Rainfall Measuring Mission (TRMM) satellite sensors were used to monitor meteorological and agricultural drought during 2000–2012 growing seasons for different climate regions in the USA. Standardized Precipitation Index (SPI) with time scales from 1 to 12 months and crop yield data were used as reference data of meteorological and agricultural drought, respectively. The relationship between sixteen remote sensing based drought factors and in situ reference data was modeled through three machine learning approaches: random forest, boosted regression trees, and Cubist, which have proved to be robust and flexible in many regression tasks. Results showed that random forest produced the best performance (R2 = 0.93, RMSE = 0.3) for SPI prediction among the three approaches. Land surface-related drought factors, e.g., Land Surface Temperature (LST) and Evapotranspiration (ET) showed higher relative importance for short-term meteorological drought while vegetation-related drought factors, e.g., Normalized Difference Vegetation Index (NDVI) and Normalized Multi-band Drought Index (NMDI) showed higher relative importance for long-term meteorological drought by random forest. Six drought factors were selected based on the relative importance by their category to develop drought indicators that represent meteorological and agricultural drought by using the relative importance as weights. While TRMM showed higher relative importance for meteorological drought, LST and NDVI showed higher relative importance for agricultural drought in the arid and humid regions, respectively. Finally, drought distribution maps were produced using the drought indicators and compared with the U.S. Drought Monitor (USDM) maps, which showed a strong visual agreement.\n",
      "AbstractDrought triggered by a deficit of precipitation, is influenced by various environmental factors such as temperature and evapotranspiration, and causes water shortage and crop failure problems. In this study, sixteen remote sensing based drought factors from the Moderate Resolution Imaging Spectroradiometer (MODIS) and Tropical Rainfall Measuring Mission (TRMM) satellite sensors were used to monitor meteorological and agricultural drought during 2000–2012 growing seasons for different climate regions in the USA. Standardized Precipitation Index (SPI) with time scales from 1 to 12 months and crop yield data were used as reference data of meteorological and agricultural drought, respectively. The relationship between sixteen remote sensing based drought factors and in situ reference data was modeled through three machine learning approaches: random forest, boosted regression trees, and Cubist, which have proved to be robust and flexible in many regression tasks. Results showed that random forest produced the best performance (R2 = 0.93, RMSE = 0.3) for SPI prediction among the three approaches. Land surface-related drought factors, e.g., Land Surface Temperature (LST) and Evapotranspiration (ET) showed higher relative importance for short-term meteorological drought while vegetation-related drought factors, e.g., Normalized Difference Vegetation Index (NDVI) and Normalized Multi-band Drought Index (NMDI) showed higher relative importance for long-term meteorological drought by random forest. Six drought factors were selected based on the relative importance by their category to develop drought indicators that represent meteorological and agricultural drought by using the relative importance as weights. While TRMM showed higher relative importance for meteorological drought, LST and NDVI showed higher relative importance for agricultural drought in the arid and humid regions, respectively. Finally, drought distribution maps were produced using the drought indicators and compared with the U.S. Drought Monitor (USDM) maps, which showed a strong visual agreement.\n",
      "Drought triggered by a deficit of precipitation, is influenced by various environmental factors such as temperature and evapotranspiration, and causes water shortage and crop failure problems. In this study, sixteen remote sensing based drought factors from the Moderate Resolution Imaging Spectroradiometer (MODIS) and Tropical Rainfall Measuring Mission (TRMM) satellite sensors were used to monitor meteorological and agricultural drought during 2000–2012 growing seasons for different climate regions in the USA. Standardized Precipitation Index (SPI) with time scales from 1 to 12 months and crop yield data were used as reference data of meteorological and agricultural drought, respectively. The relationship between sixteen remote sensing based drought factors and in situ reference data was modeled through three machine learning approaches: random forest, boosted regression trees, and Cubist, which have proved to be robust and flexible in many regression tasks. Results showed that random forest produced the best performance (R2 = 0.93, RMSE = 0.3) for SPI prediction among the three approaches. Land surface-related drought factors, e.g., Land Surface Temperature (LST) and Evapotranspiration (ET) showed higher relative importance for short-term meteorological drought while vegetation-related drought factors, e.g., Normalized Difference Vegetation Index (NDVI) and Normalized Multi-band Drought Index (NMDI) showed higher relative importance for long-term meteorological drought by random forest. Six drought factors were selected based on the relative importance by their category to develop drought indicators that represent meteorological and agricultural drought by using the relative importance as weights. While TRMM showed higher relative importance for meteorological drought, LST and NDVI showed higher relative importance for agricultural drought in the arid and humid regions, respectively. Finally, drought distribution maps were produced using the drought indicators and compared with the U.S. Drought Monitor (USDM) maps, which showed a strong visual agreement.\n"
     ]
    },
    {
     "name": "stdout",
     "output_type": "stream",
     "text": [
      "\n",
      "\n",
      "********\n",
      "\n",
      "\n",
      "this ones good:  9\n",
      "\n",
      "Computers and Electronics in AgricultureVolume 155, December 2018, Pages 41-49Original papersAn IoT based smart irrigation management system using Machine learning and open source technologiesAuthor links open overlay panelAmarendraGoapabDeepakSharmabA.K.ShuklabC.Rama KrishnaaShow morehttps://doi.org/10.1016/j.compag.2018.09.040Get rights and contentHighlights•IoT based architecture for smart irrigation using field sensors and weather forecast.•Machine-learning based Soil moisture prediction algorithm with higher accuracy.•Smart irrigation scheduling algorithm using predicted soil moisture and rain forecast.AbstractThe scarcity of clean water resources around the globe has generated a need for their optimum utilization. Internet of Things (IoT) solutions, based on the application specific sensors’ data acquisition and intelligent processing, are bridging the gaps between the cyber and physical worlds. IoT based smart irrigation management systems can help in achieving optimum water-resource utilization in the precision farming landscape. This paper presents an open-source technology based smart system to predict the irrigation requirements of a field using the sensing of ground parameter like soil moisture, soil temperature, and environmental conditions along with the weather forecast data from the Internet. The sensing nodes, involved in the ground and environmental sensing, consider soil moisture, soil temperature, air temperature, Ultraviolet (UV) light radiation, and relative humidity of the crop field. The intelligence of the proposed system is based on a smart algorithm, which considers sensed data along with the weather forecast parameters like precipitation, air temperature, humidity, and UV for the near future. The complete system has been developed and deployed on a pilot scale, where the sensor node data is wirelessly collected over the cloud using web-services and a web-based information visualization and decision support system provides the real-time information insights based on the analysis of sensors data and weather forecast data. The system has a provision for a closed-loop control of the water supply to realize a fully autonomous irrigation scheme. The paper describes the system and discusses in detail the information processing results of three weeks data based on the proposed algorithm. The system is fully functional and the prediction results are very encouraging.Previous article in issueNext article in issueKeywordsIrrigation management systemIoTPrecision agriculturePrediction algorithmMachine learningEvapotranspirationRecommended articlesCiting articles (0)View full text© 2018 Elsevier B.V. All rights reserved.Recommended articlesNo articles found.Citing articlesArticle MetricsView article metrics\n",
      "Highlights•IoT based architecture for smart irrigation using field sensors and weather forecast.•Machine-learning based Soil moisture prediction algorithm with higher accuracy.•Smart irrigation scheduling algorithm using predicted soil moisture and rain forecast.AbstractThe scarcity of clean water resources around the globe has generated a need for their optimum utilization. Internet of Things (IoT) solutions, based on the application specific sensors’ data acquisition and intelligent processing, are bridging the gaps between the cyber and physical worlds. IoT based smart irrigation management systems can help in achieving optimum water-resource utilization in the precision farming landscape. This paper presents an open-source technology based smart system to predict the irrigation requirements of a field using the sensing of ground parameter like soil moisture, soil temperature, and environmental conditions along with the weather forecast data from the Internet. The sensing nodes, involved in the ground and environmental sensing, consider soil moisture, soil temperature, air temperature, Ultraviolet (UV) light radiation, and relative humidity of the crop field. The intelligence of the proposed system is based on a smart algorithm, which considers sensed data along with the weather forecast parameters like precipitation, air temperature, humidity, and UV for the near future. The complete system has been developed and deployed on a pilot scale, where the sensor node data is wirelessly collected over the cloud using web-services and a web-based information visualization and decision support system provides the real-time information insights based on the analysis of sensors data and weather forecast data. The system has a provision for a closed-loop control of the water supply to realize a fully autonomous irrigation scheme. The paper describes the system and discusses in detail the information processing results of three weeks data based on the proposed algorithm. The system is fully functional and the prediction results are very encouraging.\n",
      "AbstractThe scarcity of clean water resources around the globe has generated a need for their optimum utilization. Internet of Things (IoT) solutions, based on the application specific sensors’ data acquisition and intelligent processing, are bridging the gaps between the cyber and physical worlds. IoT based smart irrigation management systems can help in achieving optimum water-resource utilization in the precision farming landscape. This paper presents an open-source technology based smart system to predict the irrigation requirements of a field using the sensing of ground parameter like soil moisture, soil temperature, and environmental conditions along with the weather forecast data from the Internet. The sensing nodes, involved in the ground and environmental sensing, consider soil moisture, soil temperature, air temperature, Ultraviolet (UV) light radiation, and relative humidity of the crop field. The intelligence of the proposed system is based on a smart algorithm, which considers sensed data along with the weather forecast parameters like precipitation, air temperature, humidity, and UV for the near future. The complete system has been developed and deployed on a pilot scale, where the sensor node data is wirelessly collected over the cloud using web-services and a web-based information visualization and decision support system provides the real-time information insights based on the analysis of sensors data and weather forecast data. The system has a provision for a closed-loop control of the water supply to realize a fully autonomous irrigation scheme. The paper describes the system and discusses in detail the information processing results of three weeks data based on the proposed algorithm. The system is fully functional and the prediction results are very encouraging.\n",
      "The scarcity of clean water resources around the globe has generated a need for their optimum utilization. Internet of Things (IoT) solutions, based on the application specific sensors’ data acquisition and intelligent processing, are bridging the gaps between the cyber and physical worlds. IoT based smart irrigation management systems can help in achieving optimum water-resource utilization in the precision farming landscape. This paper presents an open-source technology based smart system to predict the irrigation requirements of a field using the sensing of ground parameter like soil moisture, soil temperature, and environmental conditions along with the weather forecast data from the Internet. The sensing nodes, involved in the ground and environmental sensing, consider soil moisture, soil temperature, air temperature, Ultraviolet (UV) light radiation, and relative humidity of the crop field. The intelligence of the proposed system is based on a smart algorithm, which considers sensed data along with the weather forecast parameters like precipitation, air temperature, humidity, and UV for the near future. The complete system has been developed and deployed on a pilot scale, where the sensor node data is wirelessly collected over the cloud using web-services and a web-based information visualization and decision support system provides the real-time information insights based on the analysis of sensors data and weather forecast data. The system has a provision for a closed-loop control of the water supply to realize a fully autonomous irrigation scheme. The paper describes the system and discusses in detail the information processing results of three weeks data based on the proposed algorithm. The system is fully functional and the prediction results are very encouraging.\n"
     ]
    }
   ],
   "source": [
    "get_abstracts(htmls)"
   ]
  },
  {
   "cell_type": "code",
   "execution_count": null,
   "metadata": {},
   "outputs": [],
   "source": []
  }
 ],
 "metadata": {
  "kernelspec": {
   "display_name": "Python 3",
   "language": "python",
   "name": "python3"
  },
  "language_info": {
   "codemirror_mode": {
    "name": "ipython",
    "version": 3
   },
   "file_extension": ".py",
   "mimetype": "text/x-python",
   "name": "python",
   "nbconvert_exporter": "python",
   "pygments_lexer": "ipython3",
   "version": "3.6.9"
  }
 },
 "nbformat": 4,
 "nbformat_minor": 2
}
